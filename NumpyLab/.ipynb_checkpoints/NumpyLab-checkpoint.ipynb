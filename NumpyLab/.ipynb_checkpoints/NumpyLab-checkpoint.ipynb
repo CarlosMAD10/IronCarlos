{
 "cells": [
  {
   "cell_type": "code",
   "execution_count": 3,
   "id": "64c0c678",
   "metadata": {},
   "outputs": [],
   "source": [
    "import numpy as np"
   ]
  },
  {
   "cell_type": "code",
   "execution_count": 4,
   "id": "8d848220",
   "metadata": {},
   "outputs": [
    {
     "name": "stdout",
     "output_type": "stream",
     "text": [
      "1.21.1\n",
      "blas_mkl_info:\n",
      "  NOT AVAILABLE\n",
      "blis_info:\n",
      "  NOT AVAILABLE\n",
      "openblas_info:\n",
      "    library_dirs = ['D:\\\\a\\\\1\\\\s\\\\numpy\\\\build\\\\openblas_info']\n",
      "    libraries = ['openblas_info']\n",
      "    language = f77\n",
      "    define_macros = [('HAVE_CBLAS', None)]\n",
      "blas_opt_info:\n",
      "    library_dirs = ['D:\\\\a\\\\1\\\\s\\\\numpy\\\\build\\\\openblas_info']\n",
      "    libraries = ['openblas_info']\n",
      "    language = f77\n",
      "    define_macros = [('HAVE_CBLAS', None)]\n",
      "lapack_mkl_info:\n",
      "  NOT AVAILABLE\n",
      "openblas_lapack_info:\n",
      "    library_dirs = ['D:\\\\a\\\\1\\\\s\\\\numpy\\\\build\\\\openblas_lapack_info']\n",
      "    libraries = ['openblas_lapack_info']\n",
      "    language = f77\n",
      "    define_macros = [('HAVE_CBLAS', None)]\n",
      "lapack_opt_info:\n",
      "    library_dirs = ['D:\\\\a\\\\1\\\\s\\\\numpy\\\\build\\\\openblas_lapack_info']\n",
      "    libraries = ['openblas_lapack_info']\n",
      "    language = f77\n",
      "    define_macros = [('HAVE_CBLAS', None)]\n",
      "Supported SIMD extensions in this NumPy install:\n",
      "    baseline = SSE,SSE2,SSE3\n",
      "    found = SSSE3,SSE41,POPCNT,SSE42,AVX,F16C,FMA3,AVX2\n",
      "    not found = AVX512F,AVX512CD,AVX512_SKX,AVX512_CLX,AVX512_CNL\n"
     ]
    }
   ],
   "source": [
    "print(np.__version__)\n",
    "np.__config__.show()"
   ]
  },
  {
   "cell_type": "code",
   "execution_count": 5,
   "id": "f6d1bbde",
   "metadata": {
    "scrolled": true
   },
   "outputs": [
    {
     "name": "stdout",
     "output_type": "stream",
     "text": [
      "[0. 0. 0. 0. 0. 0. 0. 0. 0. 0.]\n"
     ]
    }
   ],
   "source": [
    "zeros = np.zeros(10)\n",
    "print(zeros)"
   ]
  },
  {
   "cell_type": "code",
   "execution_count": 12,
   "id": "9646b4ba",
   "metadata": {},
   "outputs": [
    {
     "name": "stdout",
     "output_type": "stream",
     "text": [
      "10\n",
      "8\n",
      "The total size of the zeros array is 80 bytes.\n"
     ]
    }
   ],
   "source": [
    "\n",
    "print(zeros.size)\n",
    "print(zeros.itemsize)\n",
    "size_bytes = zeros.size * zeros.itemsize\n",
    "print(f\"The total size of the zeros array is {zeros.size * zeros.itemsize} bytes.\")"
   ]
  },
  {
   "cell_type": "markdown",
   "id": "0722dd37",
   "metadata": {},
   "source": [
    "You have to call np.info(np.add)"
   ]
  },
  {
   "cell_type": "code",
   "execution_count": 15,
   "id": "b1628a15",
   "metadata": {},
   "outputs": [
    {
     "name": "stdout",
     "output_type": "stream",
     "text": [
      "[0. 0. 0. 0. 0. 0. 0. 0. 0. 0.]\n",
      "[0. 0. 0. 0. 1. 0. 0. 0. 0. 0.]\n"
     ]
    }
   ],
   "source": [
    "zeros_b = zeros.copy()\n",
    "print(zeros_b)\n",
    "zeros_b[4] = 1\n",
    "print(zeros_b)"
   ]
  },
  {
   "cell_type": "code",
   "execution_count": 18,
   "id": "66b4d5e4",
   "metadata": {},
   "outputs": [
    {
     "name": "stdout",
     "output_type": "stream",
     "text": [
      "[10 11 12 13 14 15 16 17 18 19 20 21 22 23 24 25 26 27 28 29 30 31 32 33\n",
      " 34 35 36 37 38 39 40 41 42 43 44 45 46 47 48 49]\n"
     ]
    }
   ],
   "source": [
    "a = np.arange(10,50)\n",
    "print(a)"
   ]
  },
  {
   "cell_type": "code",
   "execution_count": 19,
   "id": "715b96a6",
   "metadata": {},
   "outputs": [
    {
     "data": {
      "text/plain": [
       "array([49, 48, 47, 46, 45, 44, 43, 42, 41, 40, 39, 38, 37, 36, 35, 34, 33,\n",
       "       32, 31, 30, 29, 28, 27, 26, 25, 24, 23, 22, 21, 20, 19, 18, 17, 16,\n",
       "       15, 14, 13, 12, 11, 10])"
      ]
     },
     "execution_count": 19,
     "metadata": {},
     "output_type": "execute_result"
    }
   ],
   "source": [
    "a[::-1]"
   ]
  },
  {
   "cell_type": "code",
   "execution_count": 11,
   "id": "d510fe8b",
   "metadata": {},
   "outputs": [
    {
     "name": "stdout",
     "output_type": "stream",
     "text": [
      "[[0 1 2]\n",
      " [3 4 5]\n",
      " [6 7 8]]\n"
     ]
    }
   ],
   "source": [
    "matrix = np.array((np.arange(0,9))).reshape(3,3)\n",
    "print(matrix)"
   ]
  },
  {
   "cell_type": "code",
   "execution_count": 14,
   "id": "58b24add",
   "metadata": {},
   "outputs": [
    {
     "name": "stdout",
     "output_type": "stream",
     "text": [
      "(array([0, 1, 4], dtype=int64),)\n",
      "(array([0, 1, 4], dtype=int64),)\n"
     ]
    }
   ],
   "source": [
    "array = np.array([1,2,0,0,4,0])\n",
    "indexes = array.nonzero()\n",
    "print(indexes)\n",
    "print(np.nonzero(array))"
   ]
  },
  {
   "cell_type": "code",
   "execution_count": 15,
   "id": "83af4117",
   "metadata": {},
   "outputs": [
    {
     "name": "stdout",
     "output_type": "stream",
     "text": [
      "[[1. 0. 0.]\n",
      " [0. 1. 0.]\n",
      " [0. 0. 1.]]\n"
     ]
    }
   ],
   "source": [
    "identity_mat = np.eye(3,3)\n",
    "print(identity_mat)"
   ]
  },
  {
   "cell_type": "code",
   "execution_count": 17,
   "id": "e8475273",
   "metadata": {},
   "outputs": [
    {
     "name": "stdout",
     "output_type": "stream",
     "text": [
      "[[[0.38509925 0.95108138 0.36748993]\n",
      "  [0.74057012 0.77730116 0.57804589]\n",
      "  [0.15839759 0.62957207 0.98147853]]\n",
      "\n",
      " [[0.82167516 0.13487496 0.03149215]\n",
      "  [0.19074737 0.14937086 0.73084408]\n",
      "  [0.89402693 0.22446622 0.27892498]]\n",
      "\n",
      " [[0.66695686 0.20670464 0.45861862]\n",
      "  [0.79694379 0.35975111 0.7190472 ]\n",
      "  [0.12308977 0.38566959 0.17001388]]]\n"
     ]
    }
   ],
   "source": [
    "random_3d = np.random.random((3,3,3))\n",
    "print(random_3d)"
   ]
  },
  {
   "cell_type": "code",
   "execution_count": 18,
   "id": "f195a603",
   "metadata": {},
   "outputs": [
    {
     "name": "stdout",
     "output_type": "stream",
     "text": [
      "0.0027510261692070825\n",
      "0.9987415329685921\n"
     ]
    }
   ],
   "source": [
    "random_2d = np.random.random((10,10))\n",
    "print(random_2d.min())\n",
    "print(random_2d.max())"
   ]
  },
  {
   "cell_type": "code",
   "execution_count": 20,
   "id": "421270a5",
   "metadata": {},
   "outputs": [
    {
     "name": "stdout",
     "output_type": "stream",
     "text": [
      "0.4189749575597027\n"
     ]
    }
   ],
   "source": [
    "random_v = np.random.random(10)\n",
    "print(random_v.mean())"
   ]
  },
  {
   "cell_type": "markdown",
   "id": "9442b606",
   "metadata": {},
   "source": [
    "### 15.- Create an array with one on the borders and zeros inside"
   ]
  },
  {
   "cell_type": "code",
   "execution_count": 23,
   "id": "dae91812",
   "metadata": {},
   "outputs": [
    {
     "name": "stdout",
     "output_type": "stream",
     "text": [
      "[[1. 1. 1. 1. 1. 1. 1. 1. 1. 1.]\n",
      " [1. 0. 0. 0. 0. 0. 0. 0. 0. 1.]\n",
      " [1. 0. 0. 0. 0. 0. 0. 0. 0. 1.]\n",
      " [1. 0. 0. 0. 0. 0. 0. 0. 0. 1.]\n",
      " [1. 0. 0. 0. 0. 0. 0. 0. 0. 1.]\n",
      " [1. 0. 0. 0. 0. 0. 0. 0. 0. 1.]\n",
      " [1. 0. 0. 0. 0. 0. 0. 0. 0. 1.]\n",
      " [1. 0. 0. 0. 0. 0. 0. 0. 0. 1.]\n",
      " [1. 0. 0. 0. 0. 0. 0. 0. 0. 1.]\n",
      " [1. 1. 1. 1. 1. 1. 1. 1. 1. 1.]]\n"
     ]
    }
   ],
   "source": [
    "matrix = np.ones((10,10))\n",
    "matrix[1:-1, 1:-1] = 0\n",
    "print(matrix)"
   ]
  },
  {
   "cell_type": "markdown",
   "id": "4b0b8271",
   "metadata": {},
   "source": [
    "### 16. How to add a border (filled with 0's) around an existing array?\n"
   ]
  },
  {
   "cell_type": "code",
   "execution_count": 33,
   "id": "bc47349d",
   "metadata": {},
   "outputs": [
    {
     "name": "stdout",
     "output_type": "stream",
     "text": [
      "[[0.         0.         0.         0.         0.         0.\n",
      "  0.         0.         0.         0.         0.         0.        ]\n",
      " [0.         0.99215456 0.15495383 0.52727347 0.5478037  0.65160521\n",
      "  0.90032421 0.96901842 0.32064608 0.72750278 0.86540741 0.        ]\n",
      " [0.         0.11259508 0.80649262 0.96771155 0.64892664 0.57448444\n",
      "  0.40767837 0.9263524  0.674665   0.72030341 0.90143137 0.        ]\n",
      " [0.         0.370159   0.41236676 0.24695687 0.82566611 0.59001248\n",
      "  0.00182536 0.132853   0.10571105 0.98621759 0.76761056 0.        ]\n",
      " [0.         0.6240852  0.20975018 0.1684676  0.51418374 0.36448379\n",
      "  0.28706883 0.59493101 0.07753574 0.87471704 0.52464554 0.        ]\n",
      " [0.         0.98537685 0.63960237 0.54779743 0.64363468 0.28811977\n",
      "  0.05673139 0.12055665 0.34926837 0.73613382 0.87720296 0.        ]\n",
      " [0.         0.96641638 0.90843446 0.63957964 0.67224746 0.11707894\n",
      "  0.32720087 0.71032134 0.72845198 0.89914259 0.48984818 0.        ]\n",
      " [0.         0.20699041 0.81522056 0.10264971 0.04701055 0.72258465\n",
      "  0.30361959 0.32152403 0.31975738 0.76779541 0.09284333 0.        ]\n",
      " [0.         0.61881727 0.02988397 0.02402172 0.51343238 0.10285913\n",
      "  0.43834514 0.82804024 0.53908304 0.85615124 0.05861963 0.        ]\n",
      " [0.         0.84489342 0.13066242 0.48525588 0.28441732 0.7806059\n",
      "  0.35567232 0.91649343 0.44278656 0.00522376 0.66639342 0.        ]\n",
      " [0.         0.65256331 0.75109184 0.6442316  0.4880687  0.93127956\n",
      "  0.02695768 0.5062293  0.77500824 0.01053842 0.98626322 0.        ]\n",
      " [0.         0.         0.         0.         0.         0.\n",
      "  0.         0.         0.         0.         0.         0.        ]]\n"
     ]
    }
   ],
   "source": [
    "existing = np.random.random((10,10))\n",
    "padded = np.pad(existing, 1,mode=\"constant\", constant_values=0)\n",
    "print(padded)"
   ]
  },
  {
   "cell_type": "markdown",
   "id": "db666a48",
   "metadata": {},
   "source": [
    "### 17. What is the result of the following expression?\n",
    "\n",
    "0 * np.nan\n",
    "\n",
    "np.nan == np.nan\n",
    "\n",
    "np.inf > np.nan\n",
    "\n",
    "np.nan - np.nan\n",
    "\n",
    "np.nan in set([np.nan])\n",
    "\n",
    "0.3 == 3 * 0.1"
   ]
  },
  {
   "cell_type": "code",
   "execution_count": 41,
   "id": "dd296ff2",
   "metadata": {},
   "outputs": [
    {
     "name": "stdout",
     "output_type": "stream",
     "text": [
      "nan\n",
      "False\n",
      "False\n",
      "nan\n",
      "True\n",
      "False\n"
     ]
    }
   ],
   "source": [
    "print(0*np.nan)\n",
    "print(np.nan == np.nan)\n",
    "print(np.inf > np.nan)\n",
    "print(np.nan - np.nan)\n",
    "print(np.nan in set([np.nan]))\n",
    "print(0.3 == 3*0.1)"
   ]
  },
  {
   "cell_type": "markdown",
   "id": "b1cb0770",
   "metadata": {},
   "source": [
    "### 18. Create a 5x5 matrix with values 1,2,3,4 just below the diagonal"
   ]
  },
  {
   "cell_type": "code",
   "execution_count": 47,
   "id": "6d90ce16",
   "metadata": {},
   "outputs": [
    {
     "name": "stdout",
     "output_type": "stream",
     "text": [
      "[[0 0 0 0 0]\n",
      " [1 0 0 0 0]\n",
      " [0 2 0 0 0]\n",
      " [0 0 3 0 0]\n",
      " [0 0 0 4 0]]\n"
     ]
    }
   ],
   "source": [
    "\n",
    "array = np.diag(np.arange(1,5), -1)\n",
    "print(array)"
   ]
  },
  {
   "cell_type": "markdown",
   "id": "b1133105",
   "metadata": {},
   "source": [
    "### 19. Create a 8x8 matrix and fill it with a checkerboard pattern"
   ]
  },
  {
   "cell_type": "code",
   "execution_count": 60,
   "id": "330daef7",
   "metadata": {},
   "outputs": [
    {
     "name": "stdout",
     "output_type": "stream",
     "text": [
      "[[1. 0. 1. 0. 1. 0. 1. 0.]\n",
      " [0. 1. 0. 1. 0. 1. 0. 1.]\n",
      " [1. 0. 1. 0. 1. 0. 1. 0.]\n",
      " [0. 1. 0. 1. 0. 1. 0. 1.]\n",
      " [1. 0. 1. 0. 1. 0. 1. 0.]\n",
      " [0. 1. 0. 1. 0. 1. 0. 1.]\n",
      " [1. 0. 1. 0. 1. 0. 1. 0.]\n",
      " [0. 1. 0. 1. 0. 1. 0. 1.]]\n"
     ]
    }
   ],
   "source": [
    "mat_a = np.zeros((8,8))\n",
    "mat_a[::2,::2] = 1\n",
    "mat_a[1::2,1::2] = 1\n",
    "print(mat_a)\n",
    "#indexes = [index % 2 for index, x in enumerate(range(8))]\n"
   ]
  },
  {
   "cell_type": "markdown",
   "id": "1f51a0bb",
   "metadata": {},
   "source": [
    "### 20. Consider a (6,7,8) shape array, what is the index (x,y,z) of the 100th element?"
   ]
  },
  {
   "cell_type": "code",
   "execution_count": 67,
   "id": "c3aee7f1",
   "metadata": {},
   "outputs": [
    {
     "name": "stdout",
     "output_type": "stream",
     "text": [
      "0.9263780381081932\n"
     ]
    }
   ],
   "source": [
    "array = np.random.random((6,7,8))\n",
    "print(array[np.unravel_index(100, (6,7,8))])"
   ]
  },
  {
   "cell_type": "markdown",
   "id": "e982dd81",
   "metadata": {},
   "source": [
    "### 21. Create a checkerboard 8x8 matrix using the tile function"
   ]
  },
  {
   "cell_type": "code",
   "execution_count": 75,
   "id": "043f4dd0",
   "metadata": {},
   "outputs": [
    {
     "name": "stdout",
     "output_type": "stream",
     "text": [
      "[[0 1 0 1 0 1 0 1]\n",
      " [1 0 1 0 1 0 1 0]\n",
      " [0 1 0 1 0 1 0 1]\n",
      " [1 0 1 0 1 0 1 0]\n",
      " [0 1 0 1 0 1 0 1]\n",
      " [1 0 1 0 1 0 1 0]\n",
      " [0 1 0 1 0 1 0 1]\n",
      " [1 0 1 0 1 0 1 0]]\n"
     ]
    }
   ],
   "source": [
    "a = np.tile(([0,1],[1,0]), (4,4))\n",
    "print(a)"
   ]
  },
  {
   "cell_type": "markdown",
   "id": "c83c4952",
   "metadata": {},
   "source": [
    "### 22. Normalize a 5x5 random matrix"
   ]
  },
  {
   "cell_type": "code",
   "execution_count": 77,
   "id": "0c7a0ba0",
   "metadata": {},
   "outputs": [
    {
     "name": "stdout",
     "output_type": "stream",
     "text": [
      "[[-0.44811137  0.21599282 -1.26021678  0.61420724  1.65080989]\n",
      " [ 0.56300065  1.27776845 -0.55682186 -1.03255538 -1.03951439]\n",
      " [-0.57908146 -0.02137006  1.00439194 -1.21224531 -0.95527949]\n",
      " [-0.91207891  1.24960923  1.27968936 -0.85713306  0.06465176]\n",
      " [-0.79949367  1.43470952  1.72576987 -0.20652462 -1.20017437]]\n"
     ]
    }
   ],
   "source": [
    "mat = np.random.random((5,5))\n",
    "\n",
    "mat = (mat-mat.mean())/mat.std()\n",
    "print(mat)"
   ]
  },
  {
   "cell_type": "markdown",
   "id": "f39c43d4",
   "metadata": {},
   "source": [
    "### 23. Create a custom dtype that describes a color as four unsigned bytes"
   ]
  },
  {
   "cell_type": "code",
   "execution_count": 86,
   "id": "8c8344fc",
   "metadata": {},
   "outputs": [
    {
     "name": "stdout",
     "output_type": "stream",
     "text": [
      "(6, 3, 4, 8)\n"
     ]
    }
   ],
   "source": [
    "dt = np.dtype([('r', np.dtype(\"i1\")),('g', np.dtype(\"i1\")), ('b', np.dtype(\"i1\")), ('a', np.dtype(\"i1\"))])\n",
    "a = np.array((6,3,4, 8), dtype=dt)\n",
    "print(a)"
   ]
  }
 ],
 "metadata": {
  "kernelspec": {
   "display_name": "Python 3 (ipykernel)",
   "language": "python",
   "name": "python3"
  },
  "language_info": {
   "codemirror_mode": {
    "name": "ipython",
    "version": 3
   },
   "file_extension": ".py",
   "mimetype": "text/x-python",
   "name": "python",
   "nbconvert_exporter": "python",
   "pygments_lexer": "ipython3",
   "version": "3.9.6"
  }
 },
 "nbformat": 4,
 "nbformat_minor": 5
}
