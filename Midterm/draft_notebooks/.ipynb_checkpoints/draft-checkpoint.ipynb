{
 "cells": [
  {
   "cell_type": "code",
   "execution_count": 1,
   "id": "665c0490",
   "metadata": {},
   "outputs": [],
   "source": [
    "import matplotlib.pyplot as plt\n",
    "import seaborn as sns\n",
    "%matplotlib inline\n",
    "import pandas as pd\n",
    "import numpy as np\n",
    "import gmaps \n",
    "import gmaps.datasets\n",
    "import pickle\n",
    "from sklearn.preprocessing import StandardScaler\n",
    "from sklearn.preprocessing import OneHotEncoder\n",
    "from sklearn.preprocessing import QuantileTransformer\n",
    "from sklearn.preprocessing import PowerTransformer\n",
    "from sklearn.decomposition import PCA\n",
    "from sklearn.cross_decomposition import PLSRegression\n",
    "from sklearn.linear_model import LinearRegression\n",
    "from sklearn.linear_model import SGDRegressor\n",
    "from sklearn.linear_model import TweedieRegressor\n",
    "from sklearn.linear_model import Ridge\n",
    "from sklearn.linear_model import ElasticNet\n",
    "from sklearn.linear_model import LogisticRegression\n",
    "from sklearn.linear_model import RANSACRegressor\n",
    "from sklearn.linear_model import Perceptron\n",
    "from sklearn.cluster import KMeans\n",
    "from sklearn.ensemble import RandomForestRegressor\n",
    "from sklearn.cross_decomposition import PLSRegression\n",
    "from sklearn.model_selection import train_test_split\n",
    "from sklearn.model_selection import RandomizedSearchCV\n",
    "from sklearn.model_selection import GridSearchCV\n",
    "from sklearn.pipeline import make_pipeline\n",
    "from sklearn.metrics import mean_squared_error, r2_score, mean_squared_log_error\n",
    "from scipy.stats import boxcox\n",
    "from scipy.spatial import KDTree\n",
    "pd.options.display.max_rows = 50\n",
    "pd.options.display.max_columns = 999\n",
    "sns.set_theme()"
   ]
  },
  {
   "cell_type": "code",
   "execution_count": 2,
   "id": "f5d89785",
   "metadata": {},
   "outputs": [],
   "source": [
    "#We import the custom functions that we will be using: import_dataset, rf_model, rf_clustering, evaluate\n",
    "from helper_functions import import_dataset, rf_model, rf_clustering, evaluate\n"
   ]
  },
  {
   "cell_type": "code",
   "execution_count": 9,
   "id": "6d5d04a6",
   "metadata": {},
   "outputs": [
    {
     "name": "stdout",
     "output_type": "stream",
     "text": [
      "<class 'pandas.core.frame.DataFrame'>\n",
      "Int64Index: 17791 entries, 0 to 21595\n",
      "Data columns (total 18 columns):\n",
      " #   Column         Non-Null Count  Dtype  \n",
      "---  ------         --------------  -----  \n",
      " 0   bedrooms       17791 non-null  int64  \n",
      " 1   bathrooms      17791 non-null  float64\n",
      " 2   sqft_living    17791 non-null  int64  \n",
      " 3   sqft_lot       17791 non-null  int64  \n",
      " 4   floors         17791 non-null  float64\n",
      " 5   waterfront     17791 non-null  int64  \n",
      " 6   view           17791 non-null  int64  \n",
      " 7   condition      17791 non-null  int64  \n",
      " 8   grade          17791 non-null  int64  \n",
      " 9   sqft_basement  17791 non-null  int64  \n",
      " 10  yr_built       17791 non-null  int64  \n",
      " 11  yr_renovated   17791 non-null  int64  \n",
      " 12  zipcode        17791 non-null  int64  \n",
      " 13  lat            17791 non-null  float64\n",
      " 14  long           17791 non-null  float64\n",
      " 15  sqft_living15  17791 non-null  int64  \n",
      " 16  sqft_lot15     17791 non-null  int64  \n",
      " 17  price          17791 non-null  int64  \n",
      "dtypes: float64(4), int64(14)\n",
      "memory usage: 2.6 MB\n"
     ]
    }
   ],
   "source": [
    "dataset = import_dataset()\n",
    "dataset.info()"
   ]
  },
  {
   "cell_type": "code",
   "execution_count": 14,
   "id": "609e6635",
   "metadata": {
    "scrolled": true
   },
   "outputs": [],
   "source": [
    "mask = dataset[\"price\"] < 2000000\n",
    "dataset_red = dataset[mask]"
   ]
  },
  {
   "cell_type": "code",
   "execution_count": 15,
   "id": "fee6cb91",
   "metadata": {},
   "outputs": [
    {
     "name": "stdout",
     "output_type": "stream",
     "text": [
      "<class 'pandas.core.frame.DataFrame'>\n",
      "Int64Index: 17737 entries, 0 to 21595\n",
      "Data columns (total 18 columns):\n",
      " #   Column         Non-Null Count  Dtype  \n",
      "---  ------         --------------  -----  \n",
      " 0   bedrooms       17737 non-null  int64  \n",
      " 1   bathrooms      17737 non-null  float64\n",
      " 2   sqft_living    17737 non-null  int64  \n",
      " 3   sqft_lot       17737 non-null  int64  \n",
      " 4   floors         17737 non-null  float64\n",
      " 5   waterfront     17737 non-null  int64  \n",
      " 6   view           17737 non-null  int64  \n",
      " 7   condition      17737 non-null  int64  \n",
      " 8   grade          17737 non-null  int64  \n",
      " 9   sqft_basement  17737 non-null  int64  \n",
      " 10  yr_built       17737 non-null  int64  \n",
      " 11  yr_renovated   17737 non-null  int64  \n",
      " 12  zipcode        17737 non-null  int64  \n",
      " 13  lat            17737 non-null  float64\n",
      " 14  long           17737 non-null  float64\n",
      " 15  sqft_living15  17737 non-null  int64  \n",
      " 16  sqft_lot15     17737 non-null  int64  \n",
      " 17  price          17737 non-null  int64  \n",
      "dtypes: float64(4), int64(14)\n",
      "memory usage: 2.6 MB\n"
     ]
    }
   ],
   "source": [
    "dataset_red.info()"
   ]
  },
  {
   "cell_type": "code",
   "execution_count": 16,
   "id": "2a1ecad7",
   "metadata": {
    "scrolled": true
   },
   "outputs": [
    {
     "name": "stderr",
     "output_type": "stream",
     "text": [
      "c:\\users\\carlo\\appdata\\local\\programs\\python\\python39\\lib\\site-packages\\pandas\\core\\indexing.py:1667: SettingWithCopyWarning: \n",
      "A value is trying to be set on a copy of a slice from a DataFrame.\n",
      "Try using .loc[row_indexer,col_indexer] = value instead\n",
      "\n",
      "See the caveats in the documentation: https://pandas.pydata.org/pandas-docs/stable/user_guide/indexing.html#returning-a-view-versus-a-copy\n",
      "  self.obj[key] = value\n"
     ]
    }
   ],
   "source": [
    "reg, centers_df, X_train, y_train, X_test, y_test = rf_clustering(dataset_red)"
   ]
  },
  {
   "cell_type": "code",
   "execution_count": 17,
   "id": "f03300f8",
   "metadata": {},
   "outputs": [
    {
     "name": "stdout",
     "output_type": "stream",
     "text": [
      "---Model Performance---\n",
      "RandomForestRegressor(bootstrap=False, max_depth=100, max_features='sqrt',\n",
      "                      n_estimators=300)\n",
      "\n",
      "Average Absolute Error: 55620.3 dollars.\n",
      "Mean squared error: 88117.56\n",
      "Accuracy = 88.33%.\n",
      "Coefficient of determination: 0.89\n",
      "\n"
     ]
    }
   ],
   "source": [
    "results_red = evaluate(reg, X_test, y_test)"
   ]
  }
 ],
 "metadata": {
  "kernelspec": {
   "display_name": "Python 3 (ipykernel)",
   "language": "python",
   "name": "python3"
  },
  "language_info": {
   "codemirror_mode": {
    "name": "ipython",
    "version": 3
   },
   "file_extension": ".py",
   "mimetype": "text/x-python",
   "name": "python",
   "nbconvert_exporter": "python",
   "pygments_lexer": "ipython3",
   "version": "3.9.6"
  }
 },
 "nbformat": 4,
 "nbformat_minor": 5
}
