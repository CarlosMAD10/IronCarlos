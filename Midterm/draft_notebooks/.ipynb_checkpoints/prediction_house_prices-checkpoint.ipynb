{
 "cells": [
  {
   "cell_type": "markdown",
   "id": "01f53353",
   "metadata": {},
   "source": [
    "# Prediction of the price of houses in a certain area"
   ]
  },
  {
   "cell_type": "markdown",
   "id": "0e32c0a2",
   "metadata": {},
   "source": [
    "The goal is to predict the price of houses of a certain area in Northwest USA. In order to do so, we will apply a machine learning model on historic data of house sales in said area. We have information on about 21600 previous sales, and the data includes the area of the houses/apartments, the lot sizes, the number of rooms and bathrooms, and the coordinates of the house."
   ]
  },
  {
   "cell_type": "markdown",
   "id": "a397e6bb",
   "metadata": {},
   "source": [
    "## 1. Data cleaning"
   ]
  },
  {
   "cell_type": "markdown",
   "id": "ef7b8e46",
   "metadata": {},
   "source": []
  }
 ],
 "metadata": {
  "kernelspec": {
   "display_name": "Python 3 (ipykernel)",
   "language": "python",
   "name": "python3"
  },
  "language_info": {
   "codemirror_mode": {
    "name": "ipython",
    "version": 3
   },
   "file_extension": ".py",
   "mimetype": "text/x-python",
   "name": "python",
   "nbconvert_exporter": "python",
   "pygments_lexer": "ipython3",
   "version": "3.9.6"
  }
 },
 "nbformat": 4,
 "nbformat_minor": 5
}
