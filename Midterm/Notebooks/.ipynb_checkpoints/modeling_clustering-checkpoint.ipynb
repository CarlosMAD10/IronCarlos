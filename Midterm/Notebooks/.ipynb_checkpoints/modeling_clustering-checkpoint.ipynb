{
 "cells": [
  {
   "cell_type": "markdown",
   "id": "d0950183",
   "metadata": {},
   "source": [
    "# Modeling with the clustering results for the geolocation data"
   ]
  },
  {
   "cell_type": "markdown",
   "id": "c2fd6728",
   "metadata": {},
   "source": [
    "## 0. Libraries and data import"
   ]
  },
  {
   "cell_type": "code",
   "execution_count": 353,
   "id": "a92af604",
   "metadata": {},
   "outputs": [],
   "source": [
    "import matplotlib.pyplot as plt\n",
    "import seaborn as sns\n",
    "%matplotlib inline\n",
    "import pandas as pd\n",
    "import numpy as np\n",
    "import gmaps \n",
    "import gmaps.datasets\n",
    "import pickle\n",
    "from sklearn.preprocessing import StandardScaler\n",
    "from sklearn.preprocessing import OneHotEncoder\n",
    "from sklearn.preprocessing import QuantileTransformer\n",
    "from sklearn.preprocessing import PowerTransformer\n",
    "from sklearn.decomposition import PCA\n",
    "from sklearn.cross_decomposition import PLSRegression\n",
    "from sklearn.linear_model import LinearRegression\n",
    "from sklearn.linear_model import SGDRegressor\n",
    "from sklearn.linear_model import TweedieRegressor\n",
    "from sklearn.linear_model import Ridge\n",
    "from sklearn.linear_model import ElasticNet\n",
    "from sklearn.linear_model import LogisticRegression\n",
    "from sklearn.linear_model import RANSACRegressor\n",
    "from sklearn.linear_model import Perceptron\n",
    "from sklearn.cluster import KMeans\n",
    "from sklearn.ensemble import RandomForestRegressor\n",
    "from sklearn.cross_decomposition import PLSRegression\n",
    "from sklearn.model_selection import train_test_split\n",
    "from sklearn.model_selection import RandomizedSearchCV\n",
    "from sklearn.model_selection import GridSearchCV\n",
    "from sklearn.pipeline import make_pipeline\n",
    "from sklearn.metrics import mean_squared_error, r2_score, mean_squared_log_error\n",
    "from scipy.stats import boxcox\n",
    "from scipy.spatial import KDTree\n",
    "pd.options.display.max_rows = 50\n",
    "pd.options.display.max_columns = 999\n",
    "sns.set_theme()"
   ]
  },
  {
   "cell_type": "code",
   "execution_count": 314,
   "id": "c848d536",
   "metadata": {},
   "outputs": [],
   "source": [
    "def clean_data(df):\n",
    "    df=df.drop(columns=['id', 'date'])\n",
    "    df = df[df[\"bedrooms\"] <= 8]\n",
    "    df = df[(df[\"bathrooms\"] < 6) & (df[\"bathrooms\"] >= 1)]\n",
    "    df = df[df[\"sqft_living\"] <= 6000]\n",
    "    df = df[df[\"sqft_lot\"] <= 30000]\n",
    "    df = df[df[\"sqft_lot15\"] <= 30000]\n",
    "    df.loc[df[\"view\"] != 0, \"view\"] = 1\n",
    "    df = df[df[\"condition\"] > 2]\n",
    "    df.loc[df[\"sqft_basement\"] != 0, \"sqft_basement\"] = 1\n",
    "    df.loc[(df[\"yr_renovated\"]!=0)&(df[\"yr_renovated\"]<2000), \"yr_renovated\"] = 1\n",
    "    df.loc[df[\"yr_renovated\"]>=2000, \"yr_renovated\"] = 2\n",
    "    \n",
    "    return df"
   ]
  },
  {
   "cell_type": "code",
   "execution_count": 315,
   "id": "d1e0cbfd",
   "metadata": {},
   "outputs": [],
   "source": [
    "#Data import and cleaning\n",
    "path = r\"..\\Data_Midterm.xls\"\n",
    "rs = pd.read_excel(path, engine=\"xlrd\")\n",
    "rs = clean_data(rs)\n"
   ]
  },
  {
   "cell_type": "markdown",
   "id": "5139854f",
   "metadata": {},
   "source": [
    "## 1. Creating the training and testing datasets"
   ]
  },
  {
   "cell_type": "markdown",
   "id": "f448ee28",
   "metadata": {},
   "source": [
    "We will eliminate the yr_built and condition columns, since we saw on the modeling part that they are not good for the model's accuracy."
   ]
  },
  {
   "cell_type": "code",
   "execution_count": 316,
   "id": "7cb2466f",
   "metadata": {},
   "outputs": [],
   "source": [
    "rs = rs.drop([\"yr_built\", \"condition\"], axis=1)\n",
    "X_train, X_test, y_train, y_test = train_test_split(rs.drop(\"price\",axis=1), rs[\"price\"], random_state=1)\n"
   ]
  },
  {
   "cell_type": "markdown",
   "id": "601d9005",
   "metadata": {},
   "source": [
    "## 2. Replicating the clustering exercise"
   ]
  },
  {
   "cell_type": "markdown",
   "id": "feaafa76",
   "metadata": {},
   "source": [
    "Here we recreate the results from the clustering exercise. We use only the training data. We obtain as a result:\n",
    "- A dataframe with all the detected centers, which are a location (lat and long) and a price.\n",
    "- An estimator that will allow us to predict to which cluster each house, in the training and test, sets, belong to. This will allow us to create a column called location_price and add it to our dataset."
   ]
  },
  {
   "cell_type": "code",
   "execution_count": 317,
   "id": "da780843",
   "metadata": {
    "scrolled": false
   },
   "outputs": [
    {
     "name": "stderr",
     "output_type": "stream",
     "text": [
      "c:\\users\\carlo\\appdata\\local\\programs\\python\\python39\\lib\\site-packages\\pandas\\core\\indexing.py:1667: SettingWithCopyWarning: \n",
      "A value is trying to be set on a copy of a slice from a DataFrame.\n",
      "Try using .loc[row_indexer,col_indexer] = value instead\n",
      "\n",
      "See the caveats in the documentation: https://pandas.pydata.org/pandas-docs/stable/user_guide/indexing.html#returning-a-view-versus-a-copy\n",
      "  self.obj[key] = value\n"
     ]
    }
   ],
   "source": [
    "#We create the location dataframe with the lat, longitude and price data of the training set.\n",
    "location = X_train[[\"lat\", \"long\"]]\n",
    "location.loc[:,\"price\"] = y_train\n"
   ]
  },
  {
   "cell_type": "code",
   "execution_count": 318,
   "id": "8367f5b5",
   "metadata": {},
   "outputs": [
    {
     "data": {
      "text/plain": [
       "KMeans(n_clusters=250)"
      ]
     },
     "execution_count": 318,
     "metadata": {},
     "output_type": "execute_result"
    }
   ],
   "source": [
    "#We fit our estimator\n",
    "estimator = KMeans(n_clusters=250)\n",
    "estimator.fit(location)\n"
   ]
  },
  {
   "cell_type": "markdown",
   "id": "cce44566",
   "metadata": {},
   "source": [
    "Now we need to create the dataframe with the centers that were estimated. Only the training data was used for this dataframe."
   ]
  },
  {
   "cell_type": "code",
   "execution_count": 319,
   "id": "9efcd2d8",
   "metadata": {},
   "outputs": [],
   "source": [
    "#We prepare the data about the clusters that we obtained. We have three lists with lat, long and price data of the clusters,\n",
    "#and a dataframe with the same values.\n",
    "long = []\n",
    "lat = []\n",
    "price = []\n",
    "for index, center in enumerate(estimator.cluster_centers_):\n",
    "    lat.append(center[0])\n",
    "    long.append(center[1])\n",
    "    price.append(center[2])\n",
    "\n",
    "centers_df = pd.DataFrame(data={\"lat\": lat, \"long\":long, \"price\":price})\n"
   ]
  },
  {
   "cell_type": "markdown",
   "id": "93235afa",
   "metadata": {},
   "source": [
    "Now we create the column on the training and testing datasets that will be location_price. First, we estimate to what cluster each house belongs. For that, we need to calculate the minimum distance to one of the centers, and register the price that corresponds to that center. We use the Scipy KDTree method to calculate this values."
   ]
  },
  {
   "cell_type": "code",
   "execution_count": 320,
   "id": "47a0727e",
   "metadata": {},
   "outputs": [],
   "source": [
    "#We create the tree that will allow us to quickly calculate which center is the nearest neighbor\n",
    "tree = KDTree(centers_df[[\"lat\", \"long\"]])\n",
    "\n",
    "#We get the distances (not really needed) and the index of the centers that correspond to each point\n",
    "distance_train, index_train = tree.query(X_train[[\"lat\", \"long\"]])\n",
    "distance_test, index_test = tree.query(X_test[[\"lat\", \"long\"]])\n",
    "\n"
   ]
  },
  {
   "cell_type": "code",
   "execution_count": 321,
   "id": "06f0501c",
   "metadata": {},
   "outputs": [],
   "source": [
    "X_train[\"index_centers\"] = index_train\n",
    "X_test[\"index_centers\"] = index_test"
   ]
  },
  {
   "cell_type": "code",
   "execution_count": 322,
   "id": "1e93111e",
   "metadata": {},
   "outputs": [],
   "source": [
    "#Finally, we add the column with the location price that corresponds to each center\n",
    "price_column_train = []\n",
    "price_column_test = []\n",
    "\n",
    "for row in X_train.itertuples():\n",
    "    price_column_train.append(centers_df.loc[row.index_centers, \"price\"])\n",
    "\n",
    "for row in X_test.itertuples():\n",
    "    price_column_test.append(centers_df.loc[row.index_centers, \"price\"])\n",
    "\n",
    "X_train[\"location_price\"] = price_column_train\n",
    "X_test[\"location_price\"] = price_column_test\n",
    "\n",
    "X_train = X_train.drop(\"index_centers\", axis=1)\n",
    "X_test = X_test.drop(\"index_centers\", axis=1)"
   ]
  },
  {
   "cell_type": "markdown",
   "id": "8af55f68",
   "metadata": {},
   "source": [
    "## 1. Creating the dataset that we will be using\n",
    "\n",
    "We will use this to select different combinations of columns from the dataset:"
   ]
  },
  {
   "cell_type": "code",
   "execution_count": 323,
   "id": "475a50a2",
   "metadata": {},
   "outputs": [
    {
     "name": "stdout",
     "output_type": "stream",
     "text": [
      "<class 'pandas.core.frame.DataFrame'>\n",
      "Int64Index: 14640 entries, 5358 to 266\n",
      "Data columns (total 17 columns):\n",
      " #   Column          Non-Null Count  Dtype  \n",
      "---  ------          --------------  -----  \n",
      " 0   bedrooms        14640 non-null  int64  \n",
      " 1   bathrooms       14640 non-null  float64\n",
      " 2   sqft_living     14640 non-null  int64  \n",
      " 3   sqft_lot        14640 non-null  int64  \n",
      " 4   floors          14640 non-null  float64\n",
      " 5   waterfront      14640 non-null  int64  \n",
      " 6   view            14640 non-null  int64  \n",
      " 7   grade           14640 non-null  int64  \n",
      " 8   sqft_above      14640 non-null  int64  \n",
      " 9   sqft_basement   14640 non-null  int64  \n",
      " 10  yr_renovated    14640 non-null  int64  \n",
      " 11  zipcode         14640 non-null  int64  \n",
      " 12  lat             14640 non-null  float64\n",
      " 13  long            14640 non-null  float64\n",
      " 14  sqft_living15   14640 non-null  int64  \n",
      " 15  sqft_lot15      14640 non-null  int64  \n",
      " 16  location_price  14640 non-null  float64\n",
      "dtypes: float64(5), int64(12)\n",
      "memory usage: 2.0 MB\n"
     ]
    }
   ],
   "source": [
    "X_train.info()"
   ]
  },
  {
   "cell_type": "code",
   "execution_count": 324,
   "id": "f17bd4cc",
   "metadata": {},
   "outputs": [],
   "source": [
    "full_train = X_train\n",
    "full_test = X_test"
   ]
  },
  {
   "cell_type": "code",
   "execution_count": 325,
   "id": "c418191d",
   "metadata": {},
   "outputs": [],
   "source": [
    "X_train = full_train#.drop([\"\"], axis=1)\n",
    "X_test = full_test#.drop([\"\"], axis=1)"
   ]
  },
  {
   "cell_type": "markdown",
   "id": "4d7697ce",
   "metadata": {},
   "source": [
    "## 2. Applying a Random Forest Regression"
   ]
  },
  {
   "cell_type": "code",
   "execution_count": 326,
   "id": "13c4c219",
   "metadata": {
    "scrolled": true
   },
   "outputs": [
    {
     "name": "stdout",
     "output_type": "stream",
     "text": [
      "Mean squared error: 16465205358.18\n",
      "Coefficient of determination: 0.86\n"
     ]
    },
    {
     "data": {
      "text/plain": [
       "<seaborn.axisgrid.FacetGrid at 0x1ec52c82520>"
      ]
     },
     "execution_count": 326,
     "metadata": {},
     "output_type": "execute_result"
    },
    {
     "data": {
      "image/png": "[encoded data removed]",
      "text/plain": [
       "<Figure size 720x216 with 1 Axes>"
      ]
     },
     "metadata": {},
     "output_type": "display_data"
    },
    {
     "data": {
      "image/png": "[encoded data removed]",
      "text/plain": [
       "<Figure size 360x360 with 1 Axes>"
      ]
     },
     "metadata": {},
     "output_type": "display_data"
    }
   ],
   "source": [
    "#scaler = StandardScaler()\n",
    "reg = RandomForestRegressor()\n",
    "#pipe = make_pipeline(scaler, reg)\n",
    "reg.fit(X_train, y_train)\n",
    "\n",
    "y_predict = reg.predict(X_test)\n",
    "\n",
    "# The coefficients\n",
    "#print('Coefficients: \\n', reg.coef_)\n",
    "# The mean squared error\n",
    "print('Mean squared error: %.2f' % mean_squared_error(y_test, y_predict))\n",
    "# The coefficient of determination: 1 is perfect prediction\n",
    "print('Coefficient of determination: %.2f' % r2_score(y_test,y_predict))\n",
    "\n",
    "# Plot outputs\n",
    "fig, axes = plt.subplots(1, 1, figsize=(10, 3))\n",
    "axes.scatter(y_predict, y_test, alpha=.3, label='Prediction vs test')\n",
    "axes.set(xlabel='prediction',\n",
    "            ylabel='real test value', title='Random Forest Regression')\n",
    "axes.legend()\n",
    "\n",
    "sns.lmplot(x = \"y_predict\", y = \"y_test\", data = pd.DataFrame(data={\"y_predict\":y_predict, \"y_test\":y_test}))"
   ]
  },
  {
   "cell_type": "markdown",
   "id": "e4fa22d4",
   "metadata": {},
   "source": [
    "Results obtained:\n",
    "- All the columns, included location_price: 16.9 MSE, CD 0.85\n",
    "- No location price: MSE 16.2, CD 0.86. It seems like there is little added value in the clustering exercise, with a number of centers of 2000.\n",
    "- With location price, but not lat and long: 21 MSE, CD 0.81. The result is worse, so we believe we have to keep the location (lat and long). \n",
    "- If we also drop the zipcode, the result is even worse. So we will keep all the location information, including the location_price we discovered with the clustering model.\n",
    "- Eliminating the waterfront column doesn't help either: MSE 18.5, CD 0.84.\n",
    "- Eliminating bedroom and bathroom, we lose some precision: MSE 16.8, CD 0.85\n",
    "- No sqft_lot15: MSE 16.8, CD 0.86\n",
    "- No yr_renovated: MSE 16.8, CD 0.85\n",
    "- No view: MSE 16.8, CD 0.85\n",
    "- No floors: MSE 16.9, CD 0.85\n",
    "- No waterfront: MSE 18.63 CD 0.84\n",
    "- No grade: MSE 17.8, CD 0.84\n",
    "\n",
    "Apparently, with a clustering of 2000 centers, there is no added value with the column location_price."
   ]
  },
  {
   "cell_type": "markdown",
   "id": "076a5767",
   "metadata": {},
   "source": [
    "However, we are going to check the results for different numbers of clusters, and using all the columns, since we have seen there is no apparent added value in dropping any of them.\n",
    "- 100: MSE 16.3, CD 0.86\n",
    "- 150: MSE 16.2, CD 0.86\n",
    "- 200: MSE 16.1, CD 0.86\n",
    "- 250: MSE 16.1, CD 0.86\n",
    "- 500: MSE 16.5, CD 0.86\n",
    "- 1000: MSE 15.97, CD 0.86\n",
    "- 1500: MSE 16.7, CD 0.86\n"
   ]
  },
  {
   "cell_type": "markdown",
   "id": "75d70abe",
   "metadata": {},
   "source": [
    "It seems like the optimum is around 200 clusters. "
   ]
  },
  {
   "cell_type": "markdown",
   "id": "6fe38c63",
   "metadata": {},
   "source": [
    "## 3. Fine tuning the model's parameters"
   ]
  },
  {
   "cell_type": "markdown",
   "id": "544ec518",
   "metadata": {},
   "source": [
    "Hyperparameters are the settings in the algorithm that can be adjusted to optimize performance. Hyperparameters must be set before training. For Random Forest, Scikit-Learn implements a set of sensible default hyperparameters, but we want to see if we can optimize them.\n",
    "\n",
    "We must be careful to avoid models that overfit. Therefore, the standard procedure for hyperparameter optimization accounts for overfitting through cross validation. We will use the K-fold method, one of the most widely used. "
   ]
  },
  {
   "cell_type": "code",
   "execution_count": 328,
   "id": "baf4b3f8",
   "metadata": {
    "scrolled": true
   },
   "outputs": [
    {
     "data": {
      "text/plain": [
       "{'bootstrap': True,\n",
       " 'ccp_alpha': 0.0,\n",
       " 'criterion': 'mse',\n",
       " 'max_depth': None,\n",
       " 'max_features': 'auto',\n",
       " 'max_leaf_nodes': None,\n",
       " 'max_samples': None,\n",
       " 'min_impurity_decrease': 0.0,\n",
       " 'min_impurity_split': None,\n",
       " 'min_samples_leaf': 1,\n",
       " 'min_samples_split': 2,\n",
       " 'min_weight_fraction_leaf': 0.0,\n",
       " 'n_estimators': 100,\n",
       " 'n_jobs': None,\n",
       " 'oob_score': False,\n",
       " 'random_state': None,\n",
       " 'verbose': 0,\n",
       " 'warm_start': False}"
      ]
     },
     "execution_count": 328,
     "metadata": {},
     "output_type": "execute_result"
    }
   ],
   "source": [
    "#These are the default parameters that our previous regressor has.\n",
    "reg.get_params()"
   ]
  },
  {
   "cell_type": "markdown",
   "id": "4b2d0a06",
   "metadata": {},
   "source": [
    "We intend to creat a parameter grid that we will use to optimize, in an iterative and random manner, the most interesting parameters. We will use that grid and use it with RandomizedSearchCV."
   ]
  },
  {
   "cell_type": "code",
   "execution_count": 343,
   "id": "d8213994",
   "metadata": {},
   "outputs": [
    {
     "name": "stdout",
     "output_type": "stream",
     "text": [
      "{'n_estimators': [50, 100, 150, 200, 250], 'max_features': ['auto', 'sqrt'], 'max_depth': [10, 24, 39, 53, 68, 82, 97, 112, None], 'min_samples_split': [2, 5, 10], 'min_samples_leaf': [1, 2, 4], 'bootstrap': [True, False]}\n"
     ]
    }
   ],
   "source": [
    "# Number of trees in random forest\n",
    "#n_estimators = [int(x) for x in np.linspace(start = 200, stop = 1000, num = 5)]\n",
    "n_estimators = [int(x) for x in np.linspace(start=50, stop=250, num=5)]\n",
    "# Number of features to consider at every split\n",
    "max_features = ['auto', 'sqrt']\n",
    "# Maximum number of levels in tree\n",
    "max_depth = [int(x) for x in np.linspace(10, 112, num = 8)]\n",
    "max_depth.append(None)\n",
    "# Minimum number of samples required to split a node\n",
    "min_samples_split = [2, 5, 10]\n",
    "# Minimum number of samples required at each leaf node\n",
    "min_samples_leaf = [1, 2, 4]\n",
    "# Method of selecting samples for training each tree\n",
    "bootstrap = [True, False]\n",
    "# Create the random grid\n",
    "random_grid = {'n_estimators': n_estimators,\n",
    "               'max_features': max_features,\n",
    "               'max_depth': max_depth,\n",
    "               'min_samples_split': min_samples_split,\n",
    "               'min_samples_leaf': min_samples_leaf,\n",
    "               'bootstrap': bootstrap}\n",
    "\n",
    "print(random_grid)\n"
   ]
  },
  {
   "cell_type": "markdown",
   "id": "2ffda819",
   "metadata": {},
   "source": [
    "We create the model of the cross validation (it's like any other estimator) and try it with the random forest regressor. We will iterate 100 times, use 3 fold cross validation."
   ]
  },
  {
   "cell_type": "code",
   "execution_count": 344,
   "id": "cb432d34",
   "metadata": {
    "scrolled": true
   },
   "outputs": [
    {
     "name": "stdout",
     "output_type": "stream",
     "text": [
      "Fitting 2 folds for each of 50 candidates, totalling 100 fits\n"
     ]
    },
    {
     "data": {
      "text/plain": [
       "RandomizedSearchCV(cv=2, estimator=RandomForestRegressor(), n_iter=50,\n",
       "                   n_jobs=-1,\n",
       "                   param_distributions={'bootstrap': [True, False],\n",
       "                                        'max_depth': [10, 24, 39, 53, 68, 82,\n",
       "                                                      97, 112, None],\n",
       "                                        'max_features': ['auto', 'sqrt'],\n",
       "                                        'min_samples_leaf': [1, 2, 4],\n",
       "                                        'min_samples_split': [2, 5, 10],\n",
       "                                        'n_estimators': [50, 100, 150, 200,\n",
       "                                                         250]},\n",
       "                   random_state=1, verbose=2)"
      ]
     },
     "execution_count": 344,
     "metadata": {},
     "output_type": "execute_result"
    }
   ],
   "source": [
    "random_forest = RandomForestRegressor()\n",
    "rf_random = RandomizedSearchCV(estimator = random_forest, param_distributions = random_grid, \n",
    "                               n_iter = 50, cv = 2, verbose=2, random_state=1, n_jobs = -1)\n",
    "\n",
    "rf_random.fit(X_train, y_train)"
   ]
  },
  {
   "cell_type": "markdown",
   "id": "282f1ad2",
   "metadata": {},
   "source": [
    "The model recommends that we use the following parameters:"
   ]
  },
  {
   "cell_type": "code",
   "execution_count": 345,
   "id": "d85fedf9",
   "metadata": {
    "scrolled": true
   },
   "outputs": [
    {
     "data": {
      "text/plain": [
       "{'n_estimators': 200,\n",
       " 'min_samples_split': 10,\n",
       " 'min_samples_leaf': 1,\n",
       " 'max_features': 'sqrt',\n",
       " 'max_depth': 97,\n",
       " 'bootstrap': False}"
      ]
     },
     "execution_count": 345,
     "metadata": {},
     "output_type": "execute_result"
    }
   ],
   "source": [
    "rf_random.best_params_"
   ]
  },
  {
   "cell_type": "markdown",
   "id": "b0d47b1f",
   "metadata": {},
   "source": [
    "Before we continue fine tuning, however, we want to see to what extent this \"fine tuned model\" is better than the base model. So we will compare them by creating an evaluation function"
   ]
  },
  {
   "cell_type": "code",
   "execution_count": 388,
   "id": "2b5972de",
   "metadata": {},
   "outputs": [],
   "source": [
    "def evaluate(model, test_features, test_labels):\n",
    "    y_predict = model.predict(test_features)\n",
    "    errors = abs(y_predict - test_labels)\n",
    "    mape = 100 * np.mean(errors / test_labels)\n",
    "    accuracy = 100 - mape\n",
    "    r2 = r2_score(y_test, y_predict)\n",
    "    print('Model Performance')\n",
    "    print('Average Abosulute Error: {:0.4f} dollars.'.format(np.mean(errors)))\n",
    "    print('Mean squared error: %.2f' % mean_squared_error(y_test, y_predict, squared=False))\n",
    "    print('Accuracy = {:0.2f}%.'.format(accuracy))\n",
    "    # The coefficient of determination: 1 is perfect prediction\n",
    "    print('Coefficient of determination: %.2f\\n' % r2)\n",
    "    \n",
    "    return accuracy, r2"
   ]
  },
  {
   "cell_type": "code",
   "execution_count": 351,
   "id": "950a5807",
   "metadata": {},
   "outputs": [
    {
     "name": "stdout",
     "output_type": "stream",
     "text": [
      "Model Performance\n",
      "Average Error: 68983.8106 dollars.\n",
      "Accuracy = 87.07%.\n",
      "\n",
      "Model Performance\n",
      "Average Error: 67107.9589 dollars.\n",
      "Accuracy = 87.29%.\n",
      "\n",
      "Improvement of 0.24%.\n"
     ]
    }
   ],
   "source": [
    "#Now we create both models and evaluate them:\n",
    "base = RandomForestRegressor()\n",
    "base.fit(X_train, y_train)\n",
    "base_accuracy, base_r2 = evaluate(base, X_test, y_test)\n",
    "best = rf_random.best_estimator_\n",
    "random_accuracy, random_r2 = evaluate(best, X_test, y_test)\n",
    "\n",
    "\n",
    "print('Improvement of {:0.2f}%.'.format( 100 * (random_accuracy - base_accuracy) / base_accuracy))\n"
   ]
  },
  {
   "cell_type": "markdown",
   "id": "5488c3d7",
   "metadata": {},
   "source": [
    "We have improved the accuracy of the model a little bit. We will try to optimize it even more with a structured search through the parameters that seem best, instead of random:"
   ]
  },
  {
   "cell_type": "code",
   "execution_count": 364,
   "id": "c24f5e1c",
   "metadata": {},
   "outputs": [],
   "source": [
    "param_grid = {\n",
    "    'bootstrap': [False],\n",
    "    'max_depth': [70, 80, 90, 100],\n",
    "    'max_features': [\"sqrt\"],\n",
    "    'min_samples_leaf': [1, 2],\n",
    "    'min_samples_split': [6, 8, 10, 12],\n",
    "    'n_estimators': [200, 250, 300]\n",
    "}\n",
    "# Create a based model\n",
    "r_f = RandomForestRegressor()\n",
    "# Instantiate the grid search model\n",
    "grid_search = GridSearchCV(estimator = r_f, param_grid = param_grid, \n",
    "                          cv = 3, n_jobs = -1, verbose = 2)"
   ]
  },
  {
   "cell_type": "code",
   "execution_count": 365,
   "id": "7ef2e85a",
   "metadata": {
    "scrolled": true
   },
   "outputs": [
    {
     "name": "stdout",
     "output_type": "stream",
     "text": [
      "Fitting 3 folds for each of 96 candidates, totalling 288 fits\n"
     ]
    },
    {
     "data": {
      "text/plain": [
       "GridSearchCV(cv=3, estimator=RandomForestRegressor(), n_jobs=-1,\n",
       "             param_grid={'bootstrap': [False], 'max_depth': [70, 80, 90, 100],\n",
       "                         'max_features': ['sqrt'], 'min_samples_leaf': [1, 2],\n",
       "                         'min_samples_split': [6, 8, 10, 12],\n",
       "                         'n_estimators': [200, 250, 300]},\n",
       "             verbose=2)"
      ]
     },
     "execution_count": 365,
     "metadata": {},
     "output_type": "execute_result"
    }
   ],
   "source": [
    "grid_search.fit(X_train, y_train)\n"
   ]
  },
  {
   "cell_type": "code",
   "execution_count": 366,
   "id": "03382a75",
   "metadata": {},
   "outputs": [
    {
     "data": {
      "text/plain": [
       "{'bootstrap': False,\n",
       " 'max_depth': 80,\n",
       " 'max_features': 'sqrt',\n",
       " 'min_samples_leaf': 1,\n",
       " 'min_samples_split': 6,\n",
       " 'n_estimators': 250}"
      ]
     },
     "execution_count": 366,
     "metadata": {},
     "output_type": "execute_result"
    }
   ],
   "source": [
    "grid_search.best_params_\n"
   ]
  },
  {
   "cell_type": "markdown",
   "id": "776488c0",
   "metadata": {},
   "source": [
    "These are the parameters that we will use for our future modeling, that will include a new elimination of outliers. Let's see how our base model compares to the \"fine tuned one\"."
   ]
  },
  {
   "cell_type": "code",
   "execution_count": 392,
   "id": "d2817af3",
   "metadata": {
    "scrolled": true
   },
   "outputs": [
    {
     "name": "stdout",
     "output_type": "stream",
     "text": [
      "Model Performance\n",
      "Average Abosulute Error: 69408.5780 dollars.\n",
      "Mean squared error: 127327.85\n",
      "Accuracy = 87.01%.\n",
      "Coefficient of determination: 0.86\n",
      "\n",
      "Model Performance\n",
      "Average Abosulute Error: 66820.2420 dollars.\n",
      "Mean squared error: 122183.80\n",
      "Accuracy = 87.32%.\n",
      "Coefficient of determination: 0.87\n",
      "\n",
      "Improvement of 0.36%.\n"
     ]
    }
   ],
   "source": [
    "#Now we create both models and evaluate them:\n",
    "base = RandomForestRegressor()\n",
    "base.fit(X_train, y_train)\n",
    "base_accuracy, base_r2 = evaluate(base, X_test, y_test)\n",
    "\n",
    "best = grid_search.best_estimator_\n",
    "grid_accuracy, grid_r2 = evaluate(best, X_test, y_test)\n",
    "\n",
    "\n",
    "print('Improvement of {:0.2f}%.'.format(100*(grid_accuracy - base_accuracy)/base_accuracy))\n"
   ]
  },
  {
   "cell_type": "markdown",
   "id": "be02a19b",
   "metadata": {},
   "source": [
    "We display the results of the optimized model:"
   ]
  },
  {
   "cell_type": "code",
   "execution_count": 382,
   "id": "4198a602",
   "metadata": {
    "scrolled": true
   },
   "outputs": [
    {
     "data": {
      "text/plain": [
       "<seaborn.axisgrid.FacetGrid at 0x1ec40383160>"
      ]
     },
     "execution_count": 382,
     "metadata": {},
     "output_type": "execute_result"
    },
    {
     "data": {
      "image/png": "[encoded data removed]",
      "text/plain": [
       "<Figure size 720x216 with 1 Axes>"
      ]
     },
     "metadata": {},
     "output_type": "display_data"
    },
    {
     "data": {
      "image/png": "[encoded data removed]",
      "text/plain": [
       "<Figure size 360x360 with 1 Axes>"
      ]
     },
     "metadata": {},
     "output_type": "display_data"
    }
   ],
   "source": [
    "fig, axes = plt.subplots(1, 1, figsize=(10, 3))\n",
    "axes.scatter(best.predict(X_test), y_test, alpha=.3, label='Prediction vs test')\n",
    "axes.set(xlabel='prediction',\n",
    "            ylabel='real test value', title='Random Forest Regression - optimized hyperparameters')\n",
    "axes.legend()\n",
    "\n",
    "sns.lmplot(x = \"y_predict\", y = \"y_test\", data = pd.DataFrame(data={\"y_predict\":y_predict, \"y_test\":y_test}))\n"
   ]
  }
 ],
 "metadata": {
  "kernelspec": {
   "display_name": "Python 3 (ipykernel)",
   "language": "python",
   "name": "python3"
  },
  "language_info": {
   "codemirror_mode": {
    "name": "ipython",
    "version": 3
   },
   "file_extension": ".py",
   "mimetype": "text/x-python",
   "name": "python",
   "nbconvert_exporter": "python",
   "pygments_lexer": "ipython3",
   "version": "3.9.6"
  }
 },
 "nbformat": 4,
 "nbformat_minor": 5
}
