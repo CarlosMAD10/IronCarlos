{
 "cells": [
  {
   "cell_type": "markdown",
   "id": "551166be",
   "metadata": {},
   "source": [
    "# Music recommender system"
   ]
  },
  {
   "cell_type": "markdown",
   "id": "fd77c52c",
   "metadata": {},
   "source": [
    "Select the cell under this one and click on \"Run\""
   ]
  },
  {
   "cell_type": "code",
   "execution_count": 26,
   "id": "e57d8248",
   "metadata": {},
   "outputs": [
    {
     "name": "stdout",
     "output_type": "stream",
     "text": [
      "Please insert the name of the song that you like: save your tea\n",
      "\n",
      "You chose a top song! Another song you might like is Family Ties, by Baby Keem & Kendrick Lamar.\n"
     ]
    }
   ],
   "source": [
    "import recommender\n",
    "recommender.main()"
   ]
  }
 ],
 "metadata": {
  "kernelspec": {
   "display_name": "Python 3 (ipykernel)",
   "language": "python",
   "name": "python3"
  },
  "language_info": {
   "codemirror_mode": {
    "name": "ipython",
    "version": 3
   },
   "file_extension": ".py",
   "mimetype": "text/x-python",
   "name": "python",
   "nbconvert_exporter": "python",
   "pygments_lexer": "ipython3",
   "version": "3.9.6"
  }
 },
 "nbformat": 4,
 "nbformat_minor": 5
}
