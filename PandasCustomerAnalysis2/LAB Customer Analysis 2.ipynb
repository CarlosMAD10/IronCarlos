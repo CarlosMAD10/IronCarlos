{
 "cells": [
  {
   "cell_type": "markdown",
   "id": "fc19016a",
   "metadata": {},
   "source": [
    "# Customer Analysis - Part 2"
   ]
  },
  {
   "cell_type": "markdown",
   "id": "d8e9bd0f",
   "metadata": {},
   "source": [
    "## Activity 1 - General cleaning"
   ]
  },
  {
   "cell_type": "markdown",
   "id": "5b6469b4",
   "metadata": {},
   "source": [
    "Import the libraries"
   ]
  },
  {
   "cell_type": "code",
   "execution_count": 2,
   "id": "8c10c3f9",
   "metadata": {},
   "outputs": [],
   "source": [
    "import pandas as pd"
   ]
  },
  {
   "cell_type": "markdown",
   "id": "67b2916d",
   "metadata": {},
   "source": [
    "Import the data from the file:"
   ]
  },
  {
   "cell_type": "code",
   "execution_count": 51,
   "id": "b19a54ea",
   "metadata": {},
   "outputs": [
    {
     "name": "stdout",
     "output_type": "stream",
     "text": [
      "<class 'pandas.core.frame.DataFrame'>\n",
      "RangeIndex: 10910 entries, 0 to 10909\n",
      "Data columns (total 26 columns):\n",
      " #   Column                         Non-Null Count  Dtype  \n",
      "---  ------                         --------------  -----  \n",
      " 0   Unnamed: 0                     10910 non-null  int64  \n",
      " 1   Customer                       10910 non-null  object \n",
      " 2   State                          10279 non-null  object \n",
      " 3   Customer Lifetime Value        10910 non-null  float64\n",
      " 4   Response                       10279 non-null  object \n",
      " 5   Coverage                       10910 non-null  object \n",
      " 6   Education                      10910 non-null  object \n",
      " 7   Effective To Date              10910 non-null  object \n",
      " 8   EmploymentStatus               10910 non-null  object \n",
      " 9   Gender                         10910 non-null  object \n",
      " 10  Income                         10910 non-null  int64  \n",
      " 11  Location Code                  10910 non-null  object \n",
      " 12  Marital Status                 10910 non-null  object \n",
      " 13  Monthly Premium Auto           10910 non-null  int64  \n",
      " 14  Months Since Last Claim        10277 non-null  float64\n",
      " 15  Months Since Policy Inception  10910 non-null  int64  \n",
      " 16  Number of Open Complaints      10277 non-null  float64\n",
      " 17  Number of Policies             10910 non-null  int64  \n",
      " 18  Policy Type                    10910 non-null  object \n",
      " 19  Policy                         10910 non-null  object \n",
      " 20  Renew Offer Type               10910 non-null  object \n",
      " 21  Sales Channel                  10910 non-null  object \n",
      " 22  Total Claim Amount             10910 non-null  float64\n",
      " 23  Vehicle Class                  10288 non-null  object \n",
      " 24  Vehicle Size                   10288 non-null  object \n",
      " 25  Vehicle Type                   5428 non-null   object \n",
      "dtypes: float64(4), int64(5), object(17)\n",
      "memory usage: 2.2+ MB\n"
     ]
    }
   ],
   "source": [
    "df = pd.read_csv(\"Data_Marketing_Customer_Analysis_Round2.txt\")\n",
    "df.info()"
   ]
  },
  {
   "cell_type": "markdown",
   "id": "2bfcb7c3",
   "metadata": {},
   "source": [
    "Dropping the \"Unnamed: 0\" and \"customer\" columns"
   ]
  },
  {
   "cell_type": "code",
   "execution_count": 52,
   "id": "4614e215",
   "metadata": {},
   "outputs": [],
   "source": [
    "df.drop(columns=[\"Unnamed: 0\", \"Customer\"], inplace=True)"
   ]
  },
  {
   "cell_type": "markdown",
   "id": "765806d5",
   "metadata": {},
   "source": [
    "Standardizing header names"
   ]
  },
  {
   "cell_type": "code",
   "execution_count": 53,
   "id": "0f0df32f",
   "metadata": {
    "scrolled": true
   },
   "outputs": [
    {
     "name": "stdout",
     "output_type": "stream",
     "text": [
      "<class 'pandas.core.frame.DataFrame'>\n",
      "RangeIndex: 10910 entries, 0 to 10909\n",
      "Data columns (total 24 columns):\n",
      " #   Column                         Non-Null Count  Dtype  \n",
      "---  ------                         --------------  -----  \n",
      " 0   state                          10279 non-null  object \n",
      " 1   customer_lifetime_value        10910 non-null  float64\n",
      " 2   response                       10279 non-null  object \n",
      " 3   coverage                       10910 non-null  object \n",
      " 4   education                      10910 non-null  object \n",
      " 5   effective_to_date              10910 non-null  object \n",
      " 6   employmentstatus               10910 non-null  object \n",
      " 7   gender                         10910 non-null  object \n",
      " 8   income                         10910 non-null  int64  \n",
      " 9   location_code                  10910 non-null  object \n",
      " 10  marital_status                 10910 non-null  object \n",
      " 11  monthly_premium_auto           10910 non-null  int64  \n",
      " 12  months_since_last_claim        10277 non-null  float64\n",
      " 13  months_since_policy_inception  10910 non-null  int64  \n",
      " 14  number_of_open_complaints      10277 non-null  float64\n",
      " 15  number_of_policies             10910 non-null  int64  \n",
      " 16  policy_type                    10910 non-null  object \n",
      " 17  policy                         10910 non-null  object \n",
      " 18  renew_offer_type               10910 non-null  object \n",
      " 19  sales_channel                  10910 non-null  object \n",
      " 20  total_claim_amount             10910 non-null  float64\n",
      " 21  vehicle_class                  10288 non-null  object \n",
      " 22  vehicle_size                   10288 non-null  object \n",
      " 23  vehicle_type                   5428 non-null   object \n",
      "dtypes: float64(4), int64(4), object(16)\n",
      "memory usage: 2.0+ MB\n"
     ]
    }
   ],
   "source": [
    "new_columns = df.columns.str.lower().str.replace(\" \", \"_\")\n",
    "df.columns = new_columns\n",
    "df.info()"
   ]
  },
  {
   "cell_type": "markdown",
   "id": "b0a8f078",
   "metadata": {},
   "source": [
    "Drop duplicates, and reset index"
   ]
  },
  {
   "cell_type": "code",
   "execution_count": 54,
   "id": "3ea3ba4c",
   "metadata": {
    "scrolled": true
   },
   "outputs": [
    {
     "name": "stdout",
     "output_type": "stream",
     "text": [
      "<class 'pandas.core.frame.DataFrame'>\n",
      "Int64Index: 10776 entries, 0 to 10909\n",
      "Data columns (total 24 columns):\n",
      " #   Column                         Non-Null Count  Dtype  \n",
      "---  ------                         --------------  -----  \n",
      " 0   state                          10163 non-null  object \n",
      " 1   customer_lifetime_value        10776 non-null  float64\n",
      " 2   response                       10163 non-null  object \n",
      " 3   coverage                       10776 non-null  object \n",
      " 4   education                      10776 non-null  object \n",
      " 5   effective_to_date              10776 non-null  object \n",
      " 6   employmentstatus               10776 non-null  object \n",
      " 7   gender                         10776 non-null  object \n",
      " 8   income                         10776 non-null  int64  \n",
      " 9   location_code                  10776 non-null  object \n",
      " 10  marital_status                 10776 non-null  object \n",
      " 11  monthly_premium_auto           10776 non-null  int64  \n",
      " 12  months_since_last_claim        10153 non-null  float64\n",
      " 13  months_since_policy_inception  10776 non-null  int64  \n",
      " 14  number_of_open_complaints      10153 non-null  float64\n",
      " 15  number_of_policies             10776 non-null  int64  \n",
      " 16  policy_type                    10776 non-null  object \n",
      " 17  policy                         10776 non-null  object \n",
      " 18  renew_offer_type               10776 non-null  object \n",
      " 19  sales_channel                  10776 non-null  object \n",
      " 20  total_claim_amount             10776 non-null  float64\n",
      " 21  vehicle_class                  10168 non-null  object \n",
      " 22  vehicle_size                   10168 non-null  object \n",
      " 23  vehicle_type                   5360 non-null   object \n",
      "dtypes: float64(4), int64(4), object(16)\n",
      "memory usage: 2.1+ MB\n"
     ]
    }
   ],
   "source": [
    "df = df.drop_duplicates()\n",
    "df.info()"
   ]
  },
  {
   "cell_type": "code",
   "execution_count": 55,
   "id": "77e6203a",
   "metadata": {},
   "outputs": [],
   "source": [
    "df = df.reset_index()"
   ]
  },
  {
   "cell_type": "code",
   "execution_count": 56,
   "id": "aa129f1f",
   "metadata": {
    "scrolled": true
   },
   "outputs": [
    {
     "data": {
      "text/html": [
       "<div>\n",
       "<style scoped>\n",
       "    .dataframe tbody tr th:only-of-type {\n",
       "        vertical-align: middle;\n",
       "    }\n",
       "\n",
       "    .dataframe tbody tr th {\n",
       "        vertical-align: top;\n",
       "    }\n",
       "\n",
       "    .dataframe thead th {\n",
       "        text-align: right;\n",
       "    }\n",
       "</style>\n",
       "<table border=\"1\" class=\"dataframe\">\n",
       "  <thead>\n",
       "    <tr style=\"text-align: right;\">\n",
       "      <th></th>\n",
       "      <th>state</th>\n",
       "      <th>customer_lifetime_value</th>\n",
       "      <th>response</th>\n",
       "      <th>coverage</th>\n",
       "      <th>education</th>\n",
       "      <th>effective_to_date</th>\n",
       "      <th>employmentstatus</th>\n",
       "      <th>gender</th>\n",
       "      <th>income</th>\n",
       "      <th>location_code</th>\n",
       "      <th>...</th>\n",
       "      <th>number_of_open_complaints</th>\n",
       "      <th>number_of_policies</th>\n",
       "      <th>policy_type</th>\n",
       "      <th>policy</th>\n",
       "      <th>renew_offer_type</th>\n",
       "      <th>sales_channel</th>\n",
       "      <th>total_claim_amount</th>\n",
       "      <th>vehicle_class</th>\n",
       "      <th>vehicle_size</th>\n",
       "      <th>vehicle_type</th>\n",
       "    </tr>\n",
       "  </thead>\n",
       "  <tbody>\n",
       "    <tr>\n",
       "      <th>0</th>\n",
       "      <td>Arizona</td>\n",
       "      <td>4809.216960</td>\n",
       "      <td>No</td>\n",
       "      <td>Basic</td>\n",
       "      <td>College</td>\n",
       "      <td>2/18/11</td>\n",
       "      <td>Employed</td>\n",
       "      <td>M</td>\n",
       "      <td>48029</td>\n",
       "      <td>Suburban</td>\n",
       "      <td>...</td>\n",
       "      <td>0.0</td>\n",
       "      <td>9</td>\n",
       "      <td>Corporate Auto</td>\n",
       "      <td>Corporate L3</td>\n",
       "      <td>Offer3</td>\n",
       "      <td>Agent</td>\n",
       "      <td>292.800000</td>\n",
       "      <td>Four-Door Car</td>\n",
       "      <td>Medsize</td>\n",
       "      <td>NaN</td>\n",
       "    </tr>\n",
       "    <tr>\n",
       "      <th>1</th>\n",
       "      <td>California</td>\n",
       "      <td>2228.525238</td>\n",
       "      <td>No</td>\n",
       "      <td>Basic</td>\n",
       "      <td>College</td>\n",
       "      <td>1/18/11</td>\n",
       "      <td>Unemployed</td>\n",
       "      <td>F</td>\n",
       "      <td>0</td>\n",
       "      <td>Suburban</td>\n",
       "      <td>...</td>\n",
       "      <td>0.0</td>\n",
       "      <td>1</td>\n",
       "      <td>Personal Auto</td>\n",
       "      <td>Personal L3</td>\n",
       "      <td>Offer4</td>\n",
       "      <td>Call Center</td>\n",
       "      <td>744.924331</td>\n",
       "      <td>Four-Door Car</td>\n",
       "      <td>Medsize</td>\n",
       "      <td>NaN</td>\n",
       "    </tr>\n",
       "    <tr>\n",
       "      <th>2</th>\n",
       "      <td>Washington</td>\n",
       "      <td>14947.917300</td>\n",
       "      <td>No</td>\n",
       "      <td>Basic</td>\n",
       "      <td>Bachelor</td>\n",
       "      <td>2/10/11</td>\n",
       "      <td>Employed</td>\n",
       "      <td>M</td>\n",
       "      <td>22139</td>\n",
       "      <td>Suburban</td>\n",
       "      <td>...</td>\n",
       "      <td>0.0</td>\n",
       "      <td>2</td>\n",
       "      <td>Personal Auto</td>\n",
       "      <td>Personal L3</td>\n",
       "      <td>Offer3</td>\n",
       "      <td>Call Center</td>\n",
       "      <td>480.000000</td>\n",
       "      <td>SUV</td>\n",
       "      <td>Medsize</td>\n",
       "      <td>A</td>\n",
       "    </tr>\n",
       "    <tr>\n",
       "      <th>3</th>\n",
       "      <td>Oregon</td>\n",
       "      <td>22332.439460</td>\n",
       "      <td>Yes</td>\n",
       "      <td>Extended</td>\n",
       "      <td>College</td>\n",
       "      <td>1/11/11</td>\n",
       "      <td>Employed</td>\n",
       "      <td>M</td>\n",
       "      <td>49078</td>\n",
       "      <td>Suburban</td>\n",
       "      <td>...</td>\n",
       "      <td>0.0</td>\n",
       "      <td>2</td>\n",
       "      <td>Corporate Auto</td>\n",
       "      <td>Corporate L3</td>\n",
       "      <td>Offer2</td>\n",
       "      <td>Branch</td>\n",
       "      <td>484.013411</td>\n",
       "      <td>Four-Door Car</td>\n",
       "      <td>Medsize</td>\n",
       "      <td>A</td>\n",
       "    </tr>\n",
       "    <tr>\n",
       "      <th>4</th>\n",
       "      <td>Oregon</td>\n",
       "      <td>9025.067525</td>\n",
       "      <td>No</td>\n",
       "      <td>Premium</td>\n",
       "      <td>Bachelor</td>\n",
       "      <td>1/17/11</td>\n",
       "      <td>Medical Leave</td>\n",
       "      <td>F</td>\n",
       "      <td>23675</td>\n",
       "      <td>Suburban</td>\n",
       "      <td>...</td>\n",
       "      <td>NaN</td>\n",
       "      <td>7</td>\n",
       "      <td>Personal Auto</td>\n",
       "      <td>Personal L2</td>\n",
       "      <td>Offer1</td>\n",
       "      <td>Branch</td>\n",
       "      <td>707.925645</td>\n",
       "      <td>Four-Door Car</td>\n",
       "      <td>Medsize</td>\n",
       "      <td>NaN</td>\n",
       "    </tr>\n",
       "    <tr>\n",
       "      <th>...</th>\n",
       "      <td>...</td>\n",
       "      <td>...</td>\n",
       "      <td>...</td>\n",
       "      <td>...</td>\n",
       "      <td>...</td>\n",
       "      <td>...</td>\n",
       "      <td>...</td>\n",
       "      <td>...</td>\n",
       "      <td>...</td>\n",
       "      <td>...</td>\n",
       "      <td>...</td>\n",
       "      <td>...</td>\n",
       "      <td>...</td>\n",
       "      <td>...</td>\n",
       "      <td>...</td>\n",
       "      <td>...</td>\n",
       "      <td>...</td>\n",
       "      <td>...</td>\n",
       "      <td>...</td>\n",
       "      <td>...</td>\n",
       "      <td>...</td>\n",
       "    </tr>\n",
       "    <tr>\n",
       "      <th>10771</th>\n",
       "      <td>Nevada</td>\n",
       "      <td>15563.369440</td>\n",
       "      <td>No</td>\n",
       "      <td>Premium</td>\n",
       "      <td>Bachelor</td>\n",
       "      <td>1/19/11</td>\n",
       "      <td>Unemployed</td>\n",
       "      <td>F</td>\n",
       "      <td>0</td>\n",
       "      <td>Suburban</td>\n",
       "      <td>...</td>\n",
       "      <td>NaN</td>\n",
       "      <td>7</td>\n",
       "      <td>Personal Auto</td>\n",
       "      <td>Personal L1</td>\n",
       "      <td>Offer3</td>\n",
       "      <td>Web</td>\n",
       "      <td>1214.400000</td>\n",
       "      <td>Luxury Car</td>\n",
       "      <td>Medsize</td>\n",
       "      <td>A</td>\n",
       "    </tr>\n",
       "    <tr>\n",
       "      <th>10772</th>\n",
       "      <td>Oregon</td>\n",
       "      <td>5259.444853</td>\n",
       "      <td>No</td>\n",
       "      <td>Basic</td>\n",
       "      <td>College</td>\n",
       "      <td>1/6/11</td>\n",
       "      <td>Employed</td>\n",
       "      <td>F</td>\n",
       "      <td>61146</td>\n",
       "      <td>Urban</td>\n",
       "      <td>...</td>\n",
       "      <td>0.0</td>\n",
       "      <td>6</td>\n",
       "      <td>Personal Auto</td>\n",
       "      <td>Personal L3</td>\n",
       "      <td>Offer2</td>\n",
       "      <td>Branch</td>\n",
       "      <td>273.018929</td>\n",
       "      <td>Four-Door Car</td>\n",
       "      <td>Medsize</td>\n",
       "      <td>A</td>\n",
       "    </tr>\n",
       "    <tr>\n",
       "      <th>10773</th>\n",
       "      <td>Arizona</td>\n",
       "      <td>23893.304100</td>\n",
       "      <td>No</td>\n",
       "      <td>Extended</td>\n",
       "      <td>Bachelor</td>\n",
       "      <td>2/6/11</td>\n",
       "      <td>Employed</td>\n",
       "      <td>F</td>\n",
       "      <td>39837</td>\n",
       "      <td>Rural</td>\n",
       "      <td>...</td>\n",
       "      <td>0.0</td>\n",
       "      <td>2</td>\n",
       "      <td>Corporate Auto</td>\n",
       "      <td>Corporate L3</td>\n",
       "      <td>Offer1</td>\n",
       "      <td>Web</td>\n",
       "      <td>381.306996</td>\n",
       "      <td>Luxury SUV</td>\n",
       "      <td>Medsize</td>\n",
       "      <td>NaN</td>\n",
       "    </tr>\n",
       "    <tr>\n",
       "      <th>10774</th>\n",
       "      <td>California</td>\n",
       "      <td>11971.977650</td>\n",
       "      <td>No</td>\n",
       "      <td>Premium</td>\n",
       "      <td>College</td>\n",
       "      <td>2/13/11</td>\n",
       "      <td>Employed</td>\n",
       "      <td>F</td>\n",
       "      <td>64195</td>\n",
       "      <td>Urban</td>\n",
       "      <td>...</td>\n",
       "      <td>4.0</td>\n",
       "      <td>6</td>\n",
       "      <td>Personal Auto</td>\n",
       "      <td>Personal L1</td>\n",
       "      <td>Offer1</td>\n",
       "      <td>Branch</td>\n",
       "      <td>618.288849</td>\n",
       "      <td>SUV</td>\n",
       "      <td>Medsize</td>\n",
       "      <td>A</td>\n",
       "    </tr>\n",
       "    <tr>\n",
       "      <th>10775</th>\n",
       "      <td>NaN</td>\n",
       "      <td>6857.519928</td>\n",
       "      <td>NaN</td>\n",
       "      <td>Basic</td>\n",
       "      <td>Bachelor</td>\n",
       "      <td>1/8/11</td>\n",
       "      <td>Unemployed</td>\n",
       "      <td>M</td>\n",
       "      <td>0</td>\n",
       "      <td>Suburban</td>\n",
       "      <td>...</td>\n",
       "      <td>0.0</td>\n",
       "      <td>3</td>\n",
       "      <td>Personal Auto</td>\n",
       "      <td>Personal L1</td>\n",
       "      <td>Offer4</td>\n",
       "      <td>Web</td>\n",
       "      <td>1021.719397</td>\n",
       "      <td>SUV</td>\n",
       "      <td>Medsize</td>\n",
       "      <td>NaN</td>\n",
       "    </tr>\n",
       "  </tbody>\n",
       "</table>\n",
       "<p>10776 rows × 24 columns</p>\n",
       "</div>"
      ],
      "text/plain": [
       "            state  customer_lifetime_value response  coverage education  \\\n",
       "0         Arizona              4809.216960       No     Basic   College   \n",
       "1      California              2228.525238       No     Basic   College   \n",
       "2      Washington             14947.917300       No     Basic  Bachelor   \n",
       "3          Oregon             22332.439460      Yes  Extended   College   \n",
       "4          Oregon              9025.067525       No   Premium  Bachelor   \n",
       "...           ...                      ...      ...       ...       ...   \n",
       "10771      Nevada             15563.369440       No   Premium  Bachelor   \n",
       "10772      Oregon              5259.444853       No     Basic   College   \n",
       "10773     Arizona             23893.304100       No  Extended  Bachelor   \n",
       "10774  California             11971.977650       No   Premium   College   \n",
       "10775         NaN              6857.519928      NaN     Basic  Bachelor   \n",
       "\n",
       "      effective_to_date employmentstatus gender  income location_code  ...  \\\n",
       "0               2/18/11         Employed      M   48029      Suburban  ...   \n",
       "1               1/18/11       Unemployed      F       0      Suburban  ...   \n",
       "2               2/10/11         Employed      M   22139      Suburban  ...   \n",
       "3               1/11/11         Employed      M   49078      Suburban  ...   \n",
       "4               1/17/11    Medical Leave      F   23675      Suburban  ...   \n",
       "...                 ...              ...    ...     ...           ...  ...   \n",
       "10771           1/19/11       Unemployed      F       0      Suburban  ...   \n",
       "10772            1/6/11         Employed      F   61146         Urban  ...   \n",
       "10773            2/6/11         Employed      F   39837         Rural  ...   \n",
       "10774           2/13/11         Employed      F   64195         Urban  ...   \n",
       "10775            1/8/11       Unemployed      M       0      Suburban  ...   \n",
       "\n",
       "      number_of_open_complaints  number_of_policies     policy_type  \\\n",
       "0                           0.0                   9  Corporate Auto   \n",
       "1                           0.0                   1   Personal Auto   \n",
       "2                           0.0                   2   Personal Auto   \n",
       "3                           0.0                   2  Corporate Auto   \n",
       "4                           NaN                   7   Personal Auto   \n",
       "...                         ...                 ...             ...   \n",
       "10771                       NaN                   7   Personal Auto   \n",
       "10772                       0.0                   6   Personal Auto   \n",
       "10773                       0.0                   2  Corporate Auto   \n",
       "10774                       4.0                   6   Personal Auto   \n",
       "10775                       0.0                   3   Personal Auto   \n",
       "\n",
       "             policy  renew_offer_type  sales_channel total_claim_amount  \\\n",
       "0      Corporate L3            Offer3          Agent         292.800000   \n",
       "1       Personal L3            Offer4    Call Center         744.924331   \n",
       "2       Personal L3            Offer3    Call Center         480.000000   \n",
       "3      Corporate L3            Offer2         Branch         484.013411   \n",
       "4       Personal L2            Offer1         Branch         707.925645   \n",
       "...             ...               ...            ...                ...   \n",
       "10771   Personal L1            Offer3            Web        1214.400000   \n",
       "10772   Personal L3            Offer2         Branch         273.018929   \n",
       "10773  Corporate L3            Offer1            Web         381.306996   \n",
       "10774   Personal L1            Offer1         Branch         618.288849   \n",
       "10775   Personal L1            Offer4            Web        1021.719397   \n",
       "\n",
       "       vehicle_class vehicle_size vehicle_type  \n",
       "0      Four-Door Car      Medsize          NaN  \n",
       "1      Four-Door Car      Medsize          NaN  \n",
       "2                SUV      Medsize            A  \n",
       "3      Four-Door Car      Medsize            A  \n",
       "4      Four-Door Car      Medsize          NaN  \n",
       "...              ...          ...          ...  \n",
       "10771     Luxury Car      Medsize            A  \n",
       "10772  Four-Door Car      Medsize            A  \n",
       "10773     Luxury SUV      Medsize          NaN  \n",
       "10774            SUV      Medsize            A  \n",
       "10775            SUV      Medsize          NaN  \n",
       "\n",
       "[10776 rows x 24 columns]"
      ]
     },
     "execution_count": 56,
     "metadata": {},
     "output_type": "execute_result"
    }
   ],
   "source": [
    "df.drop(columns=\"index\", inplace=True)\n",
    "df"
   ]
  },
  {
   "cell_type": "code",
   "execution_count": 57,
   "id": "ffaf6bf5",
   "metadata": {},
   "outputs": [],
   "source": [
    "df.drop(columns=\"vehicle_type\", inplace=True)"
   ]
  },
  {
   "cell_type": "markdown",
   "id": "76ccd01e",
   "metadata": {},
   "source": [
    "### Replacing null values"
   ]
  },
  {
   "cell_type": "code",
   "execution_count": 58,
   "id": "fd4e4907",
   "metadata": {
    "scrolled": true
   },
   "outputs": [],
   "source": [
    "df[\"number_of_open_complaints\"] = df[\"number_of_open_complaints\"].fillna(value=0)"
   ]
  },
  {
   "cell_type": "code",
   "execution_count": 59,
   "id": "39bf5658",
   "metadata": {},
   "outputs": [
    {
     "name": "stdout",
     "output_type": "stream",
     "text": [
      "<class 'pandas.core.frame.DataFrame'>\n",
      "RangeIndex: 10776 entries, 0 to 10775\n",
      "Data columns (total 23 columns):\n",
      " #   Column                         Non-Null Count  Dtype  \n",
      "---  ------                         --------------  -----  \n",
      " 0   state                          10163 non-null  object \n",
      " 1   customer_lifetime_value        10776 non-null  float64\n",
      " 2   response                       10163 non-null  object \n",
      " 3   coverage                       10776 non-null  object \n",
      " 4   education                      10776 non-null  object \n",
      " 5   effective_to_date              10776 non-null  object \n",
      " 6   employmentstatus               10776 non-null  object \n",
      " 7   gender                         10776 non-null  object \n",
      " 8   income                         10776 non-null  int64  \n",
      " 9   location_code                  10776 non-null  object \n",
      " 10  marital_status                 10776 non-null  object \n",
      " 11  monthly_premium_auto           10776 non-null  int64  \n",
      " 12  months_since_last_claim        10776 non-null  float64\n",
      " 13  months_since_policy_inception  10776 non-null  int64  \n",
      " 14  number_of_open_complaints      10776 non-null  float64\n",
      " 15  number_of_policies             10776 non-null  int64  \n",
      " 16  policy_type                    10776 non-null  object \n",
      " 17  policy                         10776 non-null  object \n",
      " 18  renew_offer_type               10776 non-null  object \n",
      " 19  sales_channel                  10776 non-null  object \n",
      " 20  total_claim_amount             10776 non-null  float64\n",
      " 21  vehicle_class                  10168 non-null  object \n",
      " 22  vehicle_size                   10168 non-null  object \n",
      "dtypes: float64(4), int64(4), object(15)\n",
      "memory usage: 1.9+ MB\n"
     ]
    }
   ],
   "source": [
    "mean_months = round(df[\"months_since_last_claim\"].mean())\n",
    "df[\"months_since_last_claim\"] = df[\"months_since_last_claim\"].fillna(value=mean_months)\n",
    "df.info()"
   ]
  },
  {
   "cell_type": "markdown",
   "id": "cd511b10",
   "metadata": {},
   "source": [
    "## Activity 2\n",
    "\n",
    "Bucketing the data - Write a function to replace column \"State\" to different zones. California as West Region, Oregon as North West, and Washington as East, and Arizona and Nevada as Central"
   ]
  },
  {
   "cell_type": "code",
   "execution_count": 72,
   "id": "36864041",
   "metadata": {},
   "outputs": [],
   "source": [
    "df1 = df.copy()"
   ]
  },
  {
   "cell_type": "code",
   "execution_count": 73,
   "id": "b8ee78db",
   "metadata": {},
   "outputs": [
    {
     "data": {
      "text/plain": [
       "California    3512\n",
       "Oregon        2861\n",
       "Arizona       1918\n",
       "Nevada         987\n",
       "Washington     885\n",
       "Name: state, dtype: int64"
      ]
     },
     "execution_count": 73,
     "metadata": {},
     "output_type": "execute_result"
    }
   ],
   "source": [
    "df1[\"state\"].value_counts()"
   ]
  },
  {
   "cell_type": "code",
   "execution_count": 74,
   "id": "fb23e2bc",
   "metadata": {
    "scrolled": true
   },
   "outputs": [
    {
     "name": "stdout",
     "output_type": "stream",
     "text": [
      "<class 'pandas.core.frame.DataFrame'>\n",
      "RangeIndex: 10776 entries, 0 to 10775\n",
      "Data columns (total 24 columns):\n",
      " #   Column                         Non-Null Count  Dtype  \n",
      "---  ------                         --------------  -----  \n",
      " 0   state                          10163 non-null  object \n",
      " 1   customer_lifetime_value        10776 non-null  float64\n",
      " 2   response                       10163 non-null  object \n",
      " 3   coverage                       10776 non-null  object \n",
      " 4   education                      10776 non-null  object \n",
      " 5   effective_to_date              10776 non-null  object \n",
      " 6   employmentstatus               10776 non-null  object \n",
      " 7   gender                         10776 non-null  object \n",
      " 8   income                         10776 non-null  int64  \n",
      " 9   location_code                  10776 non-null  object \n",
      " 10  marital_status                 10776 non-null  object \n",
      " 11  monthly_premium_auto           10776 non-null  int64  \n",
      " 12  months_since_last_claim        10776 non-null  float64\n",
      " 13  months_since_policy_inception  10776 non-null  int64  \n",
      " 14  number_of_open_complaints      10776 non-null  float64\n",
      " 15  number_of_policies             10776 non-null  int64  \n",
      " 16  policy_type                    10776 non-null  object \n",
      " 17  policy                         10776 non-null  object \n",
      " 18  renew_offer_type               10776 non-null  object \n",
      " 19  sales_channel                  10776 non-null  object \n",
      " 20  total_claim_amount             10776 non-null  float64\n",
      " 21  vehicle_class                  10168 non-null  object \n",
      " 22  vehicle_size                   10168 non-null  object \n",
      " 23  region                         10163 non-null  object \n",
      "dtypes: float64(4), int64(4), object(16)\n",
      "memory usage: 2.0+ MB\n"
     ]
    }
   ],
   "source": [
    "def region(x):\n",
    "    if x != x:\n",
    "        return x\n",
    "    else:\n",
    "        dic = {\"California\": \"West Region\", \"Oregon\": \"North West\", \"Washington\": \"East\",\n",
    "               \"Arizona\": \"Central\", \"Nevada\": \"Central\"}\n",
    "        return dic[x]\n",
    "    \n",
    "df1[\"region\"] = df1[\"state\"].apply(region)\n",
    "df1.info()"
   ]
  },
  {
   "cell_type": "code",
   "execution_count": 75,
   "id": "3f0e10dd",
   "metadata": {},
   "outputs": [
    {
     "data": {
      "text/plain": [
       "West Region    3512\n",
       "Central        2905\n",
       "North West     2861\n",
       "East            885\n",
       "Name: region, dtype: int64"
      ]
     },
     "execution_count": 75,
     "metadata": {},
     "output_type": "execute_result"
    }
   ],
   "source": [
    "df1[\"region\"].value_counts()"
   ]
  },
  {
   "cell_type": "markdown",
   "id": "af79fdac",
   "metadata": {},
   "source": [
    "# Activity 3\n",
    "\n",
    "Datetime format - Extract the months from the dataset and store in a separate column. Then filter the data to show only the information for the first quarter , ie. January, February and March. Hint: If data from March does not exist, consider only January and February."
   ]
  },
  {
   "cell_type": "code",
   "execution_count": 81,
   "id": "c0c4e83a",
   "metadata": {},
   "outputs": [],
   "source": [
    "df2 = df1.copy()\n"
   ]
  },
  {
   "cell_type": "code",
   "execution_count": 83,
   "id": "09816bc2",
   "metadata": {},
   "outputs": [
    {
     "data": {
      "text/plain": [
       "0        2/18/11\n",
       "1        1/18/11\n",
       "2        2/10/11\n",
       "3        1/11/11\n",
       "4        1/17/11\n",
       "          ...   \n",
       "10771    1/19/11\n",
       "10772     1/6/11\n",
       "10773     2/6/11\n",
       "10774    2/13/11\n",
       "10775     1/8/11\n",
       "Name: effective_to_date, Length: 10776, dtype: object"
      ]
     },
     "execution_count": 83,
     "metadata": {},
     "output_type": "execute_result"
    }
   ],
   "source": [
    "df2[\"effective_to_date\"]"
   ]
  },
  {
   "cell_type": "code",
   "execution_count": 94,
   "id": "6375ef1e",
   "metadata": {},
   "outputs": [
    {
     "data": {
      "text/plain": [
       "2011-01-27    238\n",
       "2011-01-10    236\n",
       "2011-01-17    220\n",
       "2011-01-26    217\n",
       "2011-02-14    217\n",
       "2011-01-31    217\n",
       "2011-01-19    212\n",
       "2011-01-03    211\n",
       "2011-02-27    202\n",
       "2011-01-28    199\n",
       "2011-02-04    198\n",
       "2011-01-21    198\n",
       "2011-02-26    197\n",
       "2011-01-20    195\n",
       "2011-02-19    195\n",
       "2011-02-07    194\n",
       "2011-01-11    193\n",
       "2011-02-03    193\n",
       "2011-01-05    190\n",
       "2011-02-22    189\n",
       "2011-02-28    188\n",
       "2011-01-02    186\n",
       "2011-02-10    184\n",
       "2011-02-11    183\n",
       "2011-02-18    183\n",
       "2011-02-25    182\n",
       "2011-01-18    182\n",
       "2011-02-12    181\n",
       "2011-02-02    181\n",
       "2011-01-23    180\n",
       "2011-01-29    179\n",
       "2011-01-08    179\n",
       "2011-01-14    178\n",
       "2011-02-01    178\n",
       "2011-02-05    178\n",
       "2011-01-09    177\n",
       "2011-02-09    177\n",
       "2011-01-24    176\n",
       "2011-02-21    175\n",
       "2011-01-07    175\n",
       "2011-02-23    173\n",
       "2011-01-15    172\n",
       "2011-01-16    172\n",
       "2011-01-13    171\n",
       "2011-02-06    170\n",
       "2011-01-01    168\n",
       "2011-01-30    168\n",
       "2011-02-13    167\n",
       "2011-02-16    166\n",
       "2011-01-25    166\n",
       "2011-02-24    162\n",
       "2011-02-17    160\n",
       "2011-01-06    160\n",
       "2011-02-20    156\n",
       "2011-02-15    155\n",
       "2011-02-08    155\n",
       "2011-01-22    148\n",
       "2011-01-12    144\n",
       "2011-01-04    130\n",
       "Name: date_column, dtype: int64"
      ]
     },
     "execution_count": 94,
     "metadata": {},
     "output_type": "execute_result"
    }
   ],
   "source": [
    "#Storing the new dates column:\n",
    "df2[\"date_column\"] = pd.to_datetime(df2[\"effective_to_date\"])\n",
    "df2[\"date_column\"].value_counts()"
   ]
  },
  {
   "cell_type": "code",
   "execution_count": 95,
   "id": "532daeeb",
   "metadata": {},
   "outputs": [],
   "source": [
    "df2[\"month_column\"] = df2[\"date_column\"].apply(lambda x: x.month)"
   ]
  },
  {
   "cell_type": "code",
   "execution_count": 96,
   "id": "963ccc69",
   "metadata": {
    "scrolled": true
   },
   "outputs": [
    {
     "data": {
      "text/plain": [
       "1    5737\n",
       "2    5039\n",
       "Name: month_column, dtype: int64"
      ]
     },
     "execution_count": 96,
     "metadata": {},
     "output_type": "execute_result"
    }
   ],
   "source": [
    "df2[\"month_column\"].value_counts()"
   ]
  }
 ],
 "metadata": {
  "kernelspec": {
   "display_name": "Python 3 (ipykernel)",
   "language": "python",
   "name": "python3"
  },
  "language_info": {
   "codemirror_mode": {
    "name": "ipython",
    "version": 3
   },
   "file_extension": ".py",
   "mimetype": "text/x-python",
   "name": "python",
   "nbconvert_exporter": "python",
   "pygments_lexer": "ipython3",
   "version": "3.9.6"
  }
 },
 "nbformat": 4,
 "nbformat_minor": 5
}
