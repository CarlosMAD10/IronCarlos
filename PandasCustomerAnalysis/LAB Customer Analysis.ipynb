{
 "cells": [
  {
   "cell_type": "markdown",
   "id": "b0c8771d",
   "metadata": {},
   "source": [
    "## Aggregate data into one Data Frame using Pandas."
   ]
  },
  {
   "cell_type": "code",
   "execution_count": 1,
   "id": "ecfcda25",
   "metadata": {},
   "outputs": [],
   "source": [
    "import pandas as pd"
   ]
  },
  {
   "cell_type": "markdown",
   "id": "cfe3328d",
   "metadata": {},
   "source": [
    "We import the csv files "
   ]
  },
  {
   "cell_type": "code",
   "execution_count": 2,
   "id": "d8b520df",
   "metadata": {},
   "outputs": [
    {
     "data": {
      "text/plain": [
       "True"
      ]
     },
     "execution_count": 2,
     "metadata": {},
     "output_type": "execute_result"
    }
   ],
   "source": [
    "df1 = pd.read_csv(\"file1.csv\")\n",
    "df2 = pd.read_csv(\"file2.csv\")\n",
    "\n",
    "#We check if the columns are the same:\n",
    "set(df1.columns) == set(df2.columns)"
   ]
  },
  {
   "cell_type": "markdown",
   "id": "e96873a1",
   "metadata": {},
   "source": [
    "We concatenate in the in a dataframe `df`"
   ]
  },
  {
   "cell_type": "code",
   "execution_count": 5,
   "id": "9c74c2fa",
   "metadata": {},
   "outputs": [
    {
     "data": {
      "text/html": [
       "<div>\n",
       "<style scoped>\n",
       "    .dataframe tbody tr th:only-of-type {\n",
       "        vertical-align: middle;\n",
       "    }\n",
       "\n",
       "    .dataframe tbody tr th {\n",
       "        vertical-align: top;\n",
       "    }\n",
       "\n",
       "    .dataframe thead th {\n",
       "        text-align: right;\n",
       "    }\n",
       "</style>\n",
       "<table border=\"1\" class=\"dataframe\">\n",
       "  <thead>\n",
       "    <tr style=\"text-align: right;\">\n",
       "      <th></th>\n",
       "      <th>Customer</th>\n",
       "      <th>ST</th>\n",
       "      <th>GENDER</th>\n",
       "      <th>Education</th>\n",
       "      <th>Customer Lifetime Value</th>\n",
       "      <th>Income</th>\n",
       "      <th>Monthly Premium Auto</th>\n",
       "      <th>Number of Open Complaints</th>\n",
       "      <th>Policy Type</th>\n",
       "      <th>Vehicle Class</th>\n",
       "      <th>Total Claim Amount</th>\n",
       "    </tr>\n",
       "  </thead>\n",
       "  <tbody>\n",
       "    <tr>\n",
       "      <th>0</th>\n",
       "      <td>RB50392</td>\n",
       "      <td>Washington</td>\n",
       "      <td>NaN</td>\n",
       "      <td>Master</td>\n",
       "      <td>NaN</td>\n",
       "      <td>0.0</td>\n",
       "      <td>1000.0</td>\n",
       "      <td>1/0/00</td>\n",
       "      <td>Personal Auto</td>\n",
       "      <td>Four-Door Car</td>\n",
       "      <td>2.704934</td>\n",
       "    </tr>\n",
       "    <tr>\n",
       "      <th>1</th>\n",
       "      <td>QZ44356</td>\n",
       "      <td>Arizona</td>\n",
       "      <td>F</td>\n",
       "      <td>Bachelor</td>\n",
       "      <td>697953.59%</td>\n",
       "      <td>0.0</td>\n",
       "      <td>94.0</td>\n",
       "      <td>1/0/00</td>\n",
       "      <td>Personal Auto</td>\n",
       "      <td>Four-Door Car</td>\n",
       "      <td>1131.464935</td>\n",
       "    </tr>\n",
       "    <tr>\n",
       "      <th>2</th>\n",
       "      <td>AI49188</td>\n",
       "      <td>Nevada</td>\n",
       "      <td>F</td>\n",
       "      <td>Bachelor</td>\n",
       "      <td>1288743.17%</td>\n",
       "      <td>48767.0</td>\n",
       "      <td>108.0</td>\n",
       "      <td>1/0/00</td>\n",
       "      <td>Personal Auto</td>\n",
       "      <td>Two-Door Car</td>\n",
       "      <td>566.472247</td>\n",
       "    </tr>\n",
       "    <tr>\n",
       "      <th>3</th>\n",
       "      <td>WW63253</td>\n",
       "      <td>California</td>\n",
       "      <td>M</td>\n",
       "      <td>Bachelor</td>\n",
       "      <td>764586.18%</td>\n",
       "      <td>0.0</td>\n",
       "      <td>106.0</td>\n",
       "      <td>1/0/00</td>\n",
       "      <td>Corporate Auto</td>\n",
       "      <td>SUV</td>\n",
       "      <td>529.881344</td>\n",
       "    </tr>\n",
       "    <tr>\n",
       "      <th>4</th>\n",
       "      <td>GA49547</td>\n",
       "      <td>Washington</td>\n",
       "      <td>M</td>\n",
       "      <td>High School or Below</td>\n",
       "      <td>536307.65%</td>\n",
       "      <td>36357.0</td>\n",
       "      <td>68.0</td>\n",
       "      <td>1/0/00</td>\n",
       "      <td>Personal Auto</td>\n",
       "      <td>Four-Door Car</td>\n",
       "      <td>17.269323</td>\n",
       "    </tr>\n",
       "  </tbody>\n",
       "</table>\n",
       "</div>"
      ],
      "text/plain": [
       "  Customer          ST GENDER             Education Customer Lifetime Value  \\\n",
       "0  RB50392  Washington    NaN                Master                     NaN   \n",
       "1  QZ44356     Arizona      F              Bachelor              697953.59%   \n",
       "2  AI49188      Nevada      F              Bachelor             1288743.17%   \n",
       "3  WW63253  California      M              Bachelor              764586.18%   \n",
       "4  GA49547  Washington      M  High School or Below              536307.65%   \n",
       "\n",
       "    Income  Monthly Premium Auto Number of Open Complaints     Policy Type  \\\n",
       "0      0.0                1000.0                    1/0/00   Personal Auto   \n",
       "1      0.0                  94.0                    1/0/00   Personal Auto   \n",
       "2  48767.0                 108.0                    1/0/00   Personal Auto   \n",
       "3      0.0                 106.0                    1/0/00  Corporate Auto   \n",
       "4  36357.0                  68.0                    1/0/00   Personal Auto   \n",
       "\n",
       "   Vehicle Class  Total Claim Amount  \n",
       "0  Four-Door Car            2.704934  \n",
       "1  Four-Door Car         1131.464935  \n",
       "2   Two-Door Car          566.472247  \n",
       "3            SUV          529.881344  \n",
       "4  Four-Door Car           17.269323  "
      ]
     },
     "execution_count": 5,
     "metadata": {},
     "output_type": "execute_result"
    }
   ],
   "source": [
    "df = pd.concat([df1,df2], ignore_index=True)\n",
    "\n",
    "df_sec = df.copy()\n",
    "df.head()"
   ]
  },
  {
   "cell_type": "markdown",
   "id": "cd957009",
   "metadata": {},
   "source": [
    "## Standardizing header names"
   ]
  },
  {
   "cell_type": "code",
   "execution_count": 6,
   "id": "ec28155c",
   "metadata": {},
   "outputs": [
    {
     "name": "stdout",
     "output_type": "stream",
     "text": [
      "<class 'pandas.core.frame.DataFrame'>\n",
      "RangeIndex: 5004 entries, 0 to 5003\n",
      "Data columns (total 11 columns):\n",
      " #   Column                     Non-Null Count  Dtype  \n",
      "---  ------                     --------------  -----  \n",
      " 0   customer                   2067 non-null   object \n",
      " 1   st                         2067 non-null   object \n",
      " 2   gender                     1945 non-null   object \n",
      " 3   education                  2067 non-null   object \n",
      " 4   customer_lifetime_value    2060 non-null   object \n",
      " 5   income                     2067 non-null   float64\n",
      " 6   monthly_premium_auto       2067 non-null   float64\n",
      " 7   number_of_open_complaints  2067 non-null   object \n",
      " 8   policy_type                2067 non-null   object \n",
      " 9   vehicle_class              2067 non-null   object \n",
      " 10  total_claim_amount         2067 non-null   float64\n",
      "dtypes: float64(3), object(8)\n",
      "memory usage: 430.2+ KB\n"
     ]
    }
   ],
   "source": [
    "column_names = df.columns\n",
    "column_names_clean = [column.lower().replace(\" \", \"_\") for column in column_names]\n",
    "df.columns = column_names_clean\n",
    "df.info()"
   ]
  },
  {
   "cell_type": "markdown",
   "id": "6faca9a9",
   "metadata": {},
   "source": [
    "### Deleting and rearranging columns – delete the column customer as it is only a unique identifier for each row of data\n"
   ]
  },
  {
   "cell_type": "code",
   "execution_count": 7,
   "id": "4726bf90",
   "metadata": {},
   "outputs": [
    {
     "name": "stdout",
     "output_type": "stream",
     "text": [
      "<class 'pandas.core.frame.DataFrame'>\n",
      "RangeIndex: 5004 entries, 0 to 5003\n",
      "Data columns (total 10 columns):\n",
      " #   Column                     Non-Null Count  Dtype  \n",
      "---  ------                     --------------  -----  \n",
      " 0   st                         2067 non-null   object \n",
      " 1   gender                     1945 non-null   object \n",
      " 2   education                  2067 non-null   object \n",
      " 3   customer_lifetime_value    2060 non-null   object \n",
      " 4   income                     2067 non-null   float64\n",
      " 5   monthly_premium_auto       2067 non-null   float64\n",
      " 6   number_of_open_complaints  2067 non-null   object \n",
      " 7   policy_type                2067 non-null   object \n",
      " 8   vehicle_class              2067 non-null   object \n",
      " 9   total_claim_amount         2067 non-null   float64\n",
      "dtypes: float64(3), object(7)\n",
      "memory usage: 391.1+ KB\n"
     ]
    }
   ],
   "source": [
    "df.drop(columns=\"customer\", inplace=True)\n",
    "df.info()"
   ]
  },
  {
   "cell_type": "code",
   "execution_count": 15,
   "id": "8030e84c",
   "metadata": {
    "scrolled": true
   },
   "outputs": [
    {
     "name": "stdout",
     "output_type": "stream",
     "text": [
      "['st', 'gender', 'education', 'customer_lifetime_value', 'number_of_open_complaints', 'policy_type', 'vehicle_class', 'total_claim_amount', 'income', 'monthly_premium_auto']\n",
      "<class 'pandas.core.frame.DataFrame'>\n",
      "RangeIndex: 5004 entries, 0 to 5003\n",
      "Data columns (total 10 columns):\n",
      " #   Column                     Non-Null Count  Dtype  \n",
      "---  ------                     --------------  -----  \n",
      " 0   st                         2067 non-null   object \n",
      " 1   gender                     1945 non-null   object \n",
      " 2   education                  2067 non-null   object \n",
      " 3   customer_lifetime_value    2060 non-null   object \n",
      " 4   number_of_open_complaints  2067 non-null   object \n",
      " 5   policy_type                2067 non-null   object \n",
      " 6   vehicle_class              2067 non-null   object \n",
      " 7   total_claim_amount         2067 non-null   float64\n",
      " 8   income                     2067 non-null   float64\n",
      " 9   monthly_premium_auto       2067 non-null   float64\n",
      "dtypes: float64(3), object(7)\n",
      "memory usage: 391.1+ KB\n"
     ]
    }
   ],
   "source": [
    "#Rearranging columns:\n",
    "new_columns = list(df.columns)\n",
    "income = new_columns.pop(4)\n",
    "monthly_premium = new_columns.pop(4)\n",
    "new_columns.append(income)\n",
    "new_columns.append(monthly_premium)\n",
    "print(new_columns)\n",
    "\n",
    "df = df.reindex(columns=new_columns)\n",
    "df.info()"
   ]
  },
  {
   "cell_type": "markdown",
   "id": "4970e053",
   "metadata": {},
   "source": [
    "### - Working with data types – Check the data types of all the columns and fix the incorrect ones (for ex. customer lifetime value and number of complaints )"
   ]
  },
  {
   "cell_type": "code",
   "execution_count": 16,
   "id": "fcd3b574",
   "metadata": {},
   "outputs": [
    {
     "name": "stdout",
     "output_type": "stream",
     "text": [
      "<class 'pandas.core.frame.DataFrame'>\n",
      "RangeIndex: 5004 entries, 0 to 5003\n",
      "Data columns (total 10 columns):\n",
      " #   Column                     Non-Null Count  Dtype  \n",
      "---  ------                     --------------  -----  \n",
      " 0   st                         2067 non-null   object \n",
      " 1   gender                     1945 non-null   object \n",
      " 2   education                  2067 non-null   object \n",
      " 3   customer_lifetime_value    2060 non-null   float64\n",
      " 4   number_of_open_complaints  2067 non-null   object \n",
      " 5   policy_type                2067 non-null   object \n",
      " 6   vehicle_class              2067 non-null   object \n",
      " 7   total_claim_amount         2067 non-null   float64\n",
      " 8   income                     2067 non-null   float64\n",
      " 9   monthly_premium_auto       2067 non-null   float64\n",
      "dtypes: float64(4), object(6)\n",
      "memory usage: 391.1+ KB\n"
     ]
    }
   ],
   "source": [
    "#We turn the customer_lifetime_value to a float column, eliminating the % at the end and dividing by 100\n",
    "def func1(x):\n",
    "     \n",
    "    if x != x:\n",
    "        return x\n",
    "    else:\n",
    "        return float(x[:-1])/100\n",
    "\n",
    "df[\"customer_lifetime_value\"] = df[\"customer_lifetime_value\"].apply(func1)\n",
    "df.info()"
   ]
  },
  {
   "cell_type": "code",
   "execution_count": 17,
   "id": "ef7c31d3",
   "metadata": {},
   "outputs": [
    {
     "name": "stdout",
     "output_type": "stream",
     "text": [
      "0.0    1626\n",
      "1.0     247\n",
      "2.0      93\n",
      "3.0      60\n",
      "4.0      29\n",
      "5.0      12\n",
      "Name: number_of_open_complaints, dtype: int64\n"
     ]
    }
   ],
   "source": [
    "#We turn the number of open complaints so it shows an int, the second value of the chain\n",
    "def func2(x):\n",
    "        \n",
    "    if x != x:\n",
    "        return x\n",
    "    else:\n",
    "        return int(x[2])\n",
    "    \n",
    "df[\"number_of_open_complaints\"] = df[\"number_of_open_complaints\"].apply(func2)\n",
    "print(df[\"number_of_open_complaints\"].value_counts())"
   ]
  },
  {
   "cell_type": "code",
   "execution_count": 18,
   "id": "ee40c9b6",
   "metadata": {},
   "outputs": [
    {
     "name": "stdout",
     "output_type": "stream",
     "text": [
      "[ 0.  2.  1.  3.  5.  4. nan]\n",
      "count     2060.000000\n",
      "mean      7799.463082\n",
      "std       6329.808952\n",
      "min       2004.350700\n",
      "25%       3978.075700\n",
      "50%       5720.275400\n",
      "75%       8819.018900\n",
      "max      58166.553500\n",
      "Name: customer_lifetime_value, dtype: float64\n"
     ]
    }
   ],
   "source": [
    "print(df[\"number_of_open_complaints\"].unique())\n",
    "print(df[\"customer_lifetime_value\"].describe())"
   ]
  },
  {
   "cell_type": "markdown",
   "id": "7d6e1dfd",
   "metadata": {},
   "source": [
    "###  Filtering data and Correcting typos – Filter the data in state and gender column to standardize the texts in those columns\n",
    "\n",
    "We start by filtering and changing the state column"
   ]
  },
  {
   "cell_type": "code",
   "execution_count": 19,
   "id": "d1316cb5",
   "metadata": {},
   "outputs": [
    {
     "data": {
      "text/plain": [
       "array(['Washington', 'Arizona', 'Nevada', 'California', 'Oregon', 'Cali',\n",
       "       'AZ', 'WA', nan], dtype=object)"
      ]
     },
     "execution_count": 19,
     "metadata": {},
     "output_type": "execute_result"
    }
   ],
   "source": [
    "df[\"st\"].unique()"
   ]
  },
  {
   "cell_type": "code",
   "execution_count": 20,
   "id": "cbf75821",
   "metadata": {},
   "outputs": [
    {
     "data": {
      "text/plain": [
       "array(['WA', 'AZ', 'NV', 'CA', 'OR', nan], dtype=object)"
      ]
     },
     "execution_count": 20,
     "metadata": {},
     "output_type": "execute_result"
    }
   ],
   "source": [
    "\n",
    "def state_cl(x):\n",
    "    if not x == x:\n",
    "        return x\n",
    "    else:\n",
    "        dic = {\"Washington\":\"WA\", \"WA\":\"WA\", \"Arizona\": \"AZ\", \"Nevada\":\"NV\", \"California\": \"CA\",\n",
    "              \"Cali\": \"CA\", \"AZ\":\"AZ\", \"Oregon\":\"OR\"}\n",
    "        return dic[x]\n",
    "        \n",
    "df[\"st\"] = df[\"st\"].apply(state_cl)\n",
    "df[\"st\"].unique()\n"
   ]
  },
  {
   "cell_type": "markdown",
   "id": "c9005663",
   "metadata": {},
   "source": [
    "Now we do the same thing with the gender column"
   ]
  },
  {
   "cell_type": "code",
   "execution_count": 21,
   "id": "144b9f6b",
   "metadata": {},
   "outputs": [
    {
     "data": {
      "text/plain": [
       "array([nan, 'F', 'M', 'Femal', 'Male', 'female'], dtype=object)"
      ]
     },
     "execution_count": 21,
     "metadata": {},
     "output_type": "execute_result"
    }
   ],
   "source": [
    "df[\"gender\"].unique()"
   ]
  },
  {
   "cell_type": "code",
   "execution_count": 22,
   "id": "ff454df0",
   "metadata": {},
   "outputs": [
    {
     "data": {
      "text/plain": [
       "array([nan, 'F', 'M'], dtype=object)"
      ]
     },
     "execution_count": 22,
     "metadata": {},
     "output_type": "execute_result"
    }
   ],
   "source": [
    "def gender_clean(x):\n",
    "    \n",
    "    if not x == x:\n",
    "        return x\n",
    "    else:\n",
    "        dic = {\"F\":\"F\", \"Femal\": \"F\", \"Male\":\"M\", \"female\": \"F\", \"M\":\"M\"}\n",
    "        \n",
    "        return dic[x]\n",
    "\n",
    "df[\"gender\"] = df[\"gender\"].apply(gender_clean)\n",
    "df[\"gender\"].unique()"
   ]
  },
  {
   "cell_type": "markdown",
   "id": "d1e2c15c",
   "metadata": {},
   "source": [
    "### Removing duplicates\n"
   ]
  },
  {
   "cell_type": "code",
   "execution_count": 23,
   "id": "bee8255d",
   "metadata": {},
   "outputs": [],
   "source": [
    "df_final = df.copy()"
   ]
  },
  {
   "cell_type": "code",
   "execution_count": 24,
   "id": "6b0c0d8b",
   "metadata": {},
   "outputs": [
    {
     "name": "stdout",
     "output_type": "stream",
     "text": [
      "<class 'pandas.core.frame.DataFrame'>\n",
      "Int64Index: 2049 entries, 0 to 5003\n",
      "Data columns (total 10 columns):\n",
      " #   Column                     Non-Null Count  Dtype  \n",
      "---  ------                     --------------  -----  \n",
      " 0   st                         2048 non-null   object \n",
      " 1   gender                     1926 non-null   object \n",
      " 2   education                  2048 non-null   object \n",
      " 3   customer_lifetime_value    2041 non-null   float64\n",
      " 4   number_of_open_complaints  2048 non-null   float64\n",
      " 5   policy_type                2048 non-null   object \n",
      " 6   vehicle_class              2048 non-null   object \n",
      " 7   total_claim_amount         2048 non-null   float64\n",
      " 8   income                     2048 non-null   float64\n",
      " 9   monthly_premium_auto       2048 non-null   float64\n",
      "dtypes: float64(5), object(5)\n",
      "memory usage: 176.1+ KB\n"
     ]
    }
   ],
   "source": [
    "df_final = df_final.drop_duplicates()\n",
    "df_final.info()"
   ]
  },
  {
   "cell_type": "markdown",
   "id": "15ea0667",
   "metadata": {},
   "source": [
    "So the number of rows is reduced to 2049 "
   ]
  },
  {
   "cell_type": "code",
   "execution_count": 25,
   "id": "7207ad3b",
   "metadata": {},
   "outputs": [
    {
     "data": {
      "text/html": [
       "<div>\n",
       "<style scoped>\n",
       "    .dataframe tbody tr th:only-of-type {\n",
       "        vertical-align: middle;\n",
       "    }\n",
       "\n",
       "    .dataframe tbody tr th {\n",
       "        vertical-align: top;\n",
       "    }\n",
       "\n",
       "    .dataframe thead th {\n",
       "        text-align: right;\n",
       "    }\n",
       "</style>\n",
       "<table border=\"1\" class=\"dataframe\">\n",
       "  <thead>\n",
       "    <tr style=\"text-align: right;\">\n",
       "      <th></th>\n",
       "      <th>st</th>\n",
       "      <th>gender</th>\n",
       "      <th>education</th>\n",
       "      <th>customer_lifetime_value</th>\n",
       "      <th>number_of_open_complaints</th>\n",
       "      <th>policy_type</th>\n",
       "      <th>vehicle_class</th>\n",
       "      <th>total_claim_amount</th>\n",
       "      <th>income</th>\n",
       "      <th>monthly_premium_auto</th>\n",
       "    </tr>\n",
       "  </thead>\n",
       "  <tbody>\n",
       "    <tr>\n",
       "      <th>0</th>\n",
       "      <td>WA</td>\n",
       "      <td>NaN</td>\n",
       "      <td>Master</td>\n",
       "      <td>NaN</td>\n",
       "      <td>0.0</td>\n",
       "      <td>Personal Auto</td>\n",
       "      <td>Four-Door Car</td>\n",
       "      <td>2.704934</td>\n",
       "      <td>0.0</td>\n",
       "      <td>1000.0</td>\n",
       "    </tr>\n",
       "    <tr>\n",
       "      <th>1</th>\n",
       "      <td>AZ</td>\n",
       "      <td>F</td>\n",
       "      <td>Bachelor</td>\n",
       "      <td>6979.5359</td>\n",
       "      <td>0.0</td>\n",
       "      <td>Personal Auto</td>\n",
       "      <td>Four-Door Car</td>\n",
       "      <td>1131.464935</td>\n",
       "      <td>0.0</td>\n",
       "      <td>94.0</td>\n",
       "    </tr>\n",
       "    <tr>\n",
       "      <th>2</th>\n",
       "      <td>NV</td>\n",
       "      <td>F</td>\n",
       "      <td>Bachelor</td>\n",
       "      <td>12887.4317</td>\n",
       "      <td>0.0</td>\n",
       "      <td>Personal Auto</td>\n",
       "      <td>Two-Door Car</td>\n",
       "      <td>566.472247</td>\n",
       "      <td>48767.0</td>\n",
       "      <td>108.0</td>\n",
       "    </tr>\n",
       "    <tr>\n",
       "      <th>3</th>\n",
       "      <td>CA</td>\n",
       "      <td>M</td>\n",
       "      <td>Bachelor</td>\n",
       "      <td>7645.8618</td>\n",
       "      <td>0.0</td>\n",
       "      <td>Corporate Auto</td>\n",
       "      <td>SUV</td>\n",
       "      <td>529.881344</td>\n",
       "      <td>0.0</td>\n",
       "      <td>106.0</td>\n",
       "    </tr>\n",
       "    <tr>\n",
       "      <th>4</th>\n",
       "      <td>WA</td>\n",
       "      <td>M</td>\n",
       "      <td>High School or Below</td>\n",
       "      <td>5363.0765</td>\n",
       "      <td>0.0</td>\n",
       "      <td>Personal Auto</td>\n",
       "      <td>Four-Door Car</td>\n",
       "      <td>17.269323</td>\n",
       "      <td>36357.0</td>\n",
       "      <td>68.0</td>\n",
       "    </tr>\n",
       "    <tr>\n",
       "      <th>...</th>\n",
       "      <td>...</td>\n",
       "      <td>...</td>\n",
       "      <td>...</td>\n",
       "      <td>...</td>\n",
       "      <td>...</td>\n",
       "      <td>...</td>\n",
       "      <td>...</td>\n",
       "      <td>...</td>\n",
       "      <td>...</td>\n",
       "      <td>...</td>\n",
       "    </tr>\n",
       "    <tr>\n",
       "      <th>2044</th>\n",
       "      <td>AZ</td>\n",
       "      <td>M</td>\n",
       "      <td>Master</td>\n",
       "      <td>8471.4175</td>\n",
       "      <td>0.0</td>\n",
       "      <td>Personal Auto</td>\n",
       "      <td>Four-Door Car</td>\n",
       "      <td>185.667213</td>\n",
       "      <td>63513.0</td>\n",
       "      <td>70.0</td>\n",
       "    </tr>\n",
       "    <tr>\n",
       "      <th>2045</th>\n",
       "      <td>AZ</td>\n",
       "      <td>F</td>\n",
       "      <td>College</td>\n",
       "      <td>5431.2191</td>\n",
       "      <td>0.0</td>\n",
       "      <td>Corporate Auto</td>\n",
       "      <td>Four-Door Car</td>\n",
       "      <td>140.747286</td>\n",
       "      <td>58161.0</td>\n",
       "      <td>68.0</td>\n",
       "    </tr>\n",
       "    <tr>\n",
       "      <th>2046</th>\n",
       "      <td>NV</td>\n",
       "      <td>F</td>\n",
       "      <td>College</td>\n",
       "      <td>5689.6441</td>\n",
       "      <td>0.0</td>\n",
       "      <td>Corporate Auto</td>\n",
       "      <td>Two-Door Car</td>\n",
       "      <td>471.050488</td>\n",
       "      <td>83640.0</td>\n",
       "      <td>70.0</td>\n",
       "    </tr>\n",
       "    <tr>\n",
       "      <th>2047</th>\n",
       "      <td>CA</td>\n",
       "      <td>F</td>\n",
       "      <td>Master</td>\n",
       "      <td>3686.7238</td>\n",
       "      <td>0.0</td>\n",
       "      <td>Personal Auto</td>\n",
       "      <td>Two-Door Car</td>\n",
       "      <td>28.460568</td>\n",
       "      <td>0.0</td>\n",
       "      <td>96.0</td>\n",
       "    </tr>\n",
       "    <tr>\n",
       "      <th>2048</th>\n",
       "      <td>CA</td>\n",
       "      <td>M</td>\n",
       "      <td>Bachelor</td>\n",
       "      <td>3992.5839</td>\n",
       "      <td>0.0</td>\n",
       "      <td>Personal Auto</td>\n",
       "      <td>SUV</td>\n",
       "      <td>700.349052</td>\n",
       "      <td>0.0</td>\n",
       "      <td>111.0</td>\n",
       "    </tr>\n",
       "  </tbody>\n",
       "</table>\n",
       "<p>2049 rows × 10 columns</p>\n",
       "</div>"
      ],
      "text/plain": [
       "      st gender             education  customer_lifetime_value  \\\n",
       "0     WA    NaN                Master                      NaN   \n",
       "1     AZ      F              Bachelor                6979.5359   \n",
       "2     NV      F              Bachelor               12887.4317   \n",
       "3     CA      M              Bachelor                7645.8618   \n",
       "4     WA      M  High School or Below                5363.0765   \n",
       "...   ..    ...                   ...                      ...   \n",
       "2044  AZ      M                Master                8471.4175   \n",
       "2045  AZ      F               College                5431.2191   \n",
       "2046  NV      F               College                5689.6441   \n",
       "2047  CA      F                Master                3686.7238   \n",
       "2048  CA      M              Bachelor                3992.5839   \n",
       "\n",
       "      number_of_open_complaints     policy_type  vehicle_class  \\\n",
       "0                           0.0   Personal Auto  Four-Door Car   \n",
       "1                           0.0   Personal Auto  Four-Door Car   \n",
       "2                           0.0   Personal Auto   Two-Door Car   \n",
       "3                           0.0  Corporate Auto            SUV   \n",
       "4                           0.0   Personal Auto  Four-Door Car   \n",
       "...                         ...             ...            ...   \n",
       "2044                        0.0   Personal Auto  Four-Door Car   \n",
       "2045                        0.0  Corporate Auto  Four-Door Car   \n",
       "2046                        0.0  Corporate Auto   Two-Door Car   \n",
       "2047                        0.0   Personal Auto   Two-Door Car   \n",
       "2048                        0.0   Personal Auto            SUV   \n",
       "\n",
       "      total_claim_amount   income  monthly_premium_auto  \n",
       "0               2.704934      0.0                1000.0  \n",
       "1            1131.464935      0.0                  94.0  \n",
       "2             566.472247  48767.0                 108.0  \n",
       "3             529.881344      0.0                 106.0  \n",
       "4              17.269323  36357.0                  68.0  \n",
       "...                  ...      ...                   ...  \n",
       "2044          185.667213  63513.0                  70.0  \n",
       "2045          140.747286  58161.0                  68.0  \n",
       "2046          471.050488  83640.0                  70.0  \n",
       "2047           28.460568      0.0                  96.0  \n",
       "2048          700.349052      0.0                 111.0  \n",
       "\n",
       "[2049 rows x 10 columns]"
      ]
     },
     "execution_count": 25,
     "metadata": {},
     "output_type": "execute_result"
    }
   ],
   "source": [
    "#Changing the index so it reflects the new length\n",
    "df_final = pd.concat([df_final],ignore_index=True)\n",
    "df_final\n"
   ]
  },
  {
   "cell_type": "markdown",
   "id": "1c3df484",
   "metadata": {},
   "source": [
    "## Activity number 2: Bucketing the data - Write a function to replace column \"State\" to different zones. California as West Region, Oregon as North West, and Washington as East, and Arizona and Nevada as Central"
   ]
  },
  {
   "cell_type": "code",
   "execution_count": 69,
   "id": "929588dd",
   "metadata": {},
   "outputs": [
    {
     "data": {
      "text/plain": [
       "Index(['region', 'gender', 'education', 'customer_lifetime_value',\n",
       "       'number_of_open_complaints', 'policy_type', 'vehicle_class',\n",
       "       'total_claim_amount', 'income', 'monthly_premium_auto'],\n",
       "      dtype='object')"
      ]
     },
     "execution_count": 69,
     "metadata": {},
     "output_type": "execute_result"
    }
   ],
   "source": [
    "#Changing the name of the field\n",
    "df = df_final.copy()\n",
    "\n",
    "df.rename(columns={\"st\":\"region\"}, inplace=True)\n",
    "df.columns\n"
   ]
  },
  {
   "cell_type": "code",
   "execution_count": 70,
   "id": "ffaba2f9",
   "metadata": {},
   "outputs": [
    {
     "data": {
      "text/plain": [
       "array(['East', 'Central', 'West Region', 'North West', nan], dtype=object)"
      ]
     },
     "execution_count": 70,
     "metadata": {},
     "output_type": "execute_result"
    }
   ],
   "source": [
    "#Function to map the states to their region\n",
    "def region(x):\n",
    "    if x != x:\n",
    "        return x\n",
    "    else:\n",
    "        dic = {\"CA\":\"West Region\", \"OR\": \"North West\", \"WA\": \"East\", \"AZ\": \"Central\", \"NV\": \"Central\"}\n",
    "        return dic[x]\n",
    "\n",
    "df[\"region\"] = df[\"region\"].apply(region)\n",
    "df[\"region\"].unique()"
   ]
  },
  {
   "cell_type": "markdown",
   "id": "a435e753",
   "metadata": {},
   "source": [
    "### Eliminating rows that are all NaN\n",
    "\n",
    "We already did. Now we substitute the NaN in several columns, so we don't leave data out\n"
   ]
  },
  {
   "cell_type": "code",
   "execution_count": 71,
   "id": "83fda635",
   "metadata": {},
   "outputs": [
    {
     "name": "stdout",
     "output_type": "stream",
     "text": [
      "<class 'pandas.core.frame.DataFrame'>\n",
      "RangeIndex: 2049 entries, 0 to 2048\n",
      "Data columns (total 10 columns):\n",
      " #   Column                     Non-Null Count  Dtype  \n",
      "---  ------                     --------------  -----  \n",
      " 0   region                     2048 non-null   object \n",
      " 1   gender                     1926 non-null   object \n",
      " 2   education                  2048 non-null   object \n",
      " 3   customer_lifetime_value    2041 non-null   float64\n",
      " 4   number_of_open_complaints  2048 non-null   float64\n",
      " 5   policy_type                2048 non-null   object \n",
      " 6   vehicle_class              2048 non-null   object \n",
      " 7   total_claim_amount         2048 non-null   float64\n",
      " 8   income                     2048 non-null   float64\n",
      " 9   monthly_premium_auto       2048 non-null   float64\n",
      "dtypes: float64(5), object(5)\n",
      "memory usage: 160.2+ KB\n"
     ]
    }
   ],
   "source": [
    "df.info()"
   ]
  },
  {
   "cell_type": "code",
   "execution_count": 72,
   "id": "2cf24694",
   "metadata": {},
   "outputs": [
    {
     "name": "stdout",
     "output_type": "stream",
     "text": [
      "Gender column before filling:\n",
      " F    1021\n",
      "M     905\n",
      "Name: gender, dtype: int64\n",
      "Gender column with NaN filled:\n",
      "  F    1021\n",
      "M     905\n",
      "U     123\n",
      "Name: gender, dtype: int64\n"
     ]
    }
   ],
   "source": [
    "#We put U in all the gender columns that are not defined:\n",
    "print(\"Gender column before filling:\\n\",df[\"gender\"].value_counts())\n",
    "df[\"gender\"] = df[\"gender\"].fillna(value=\"U\")\n",
    "print(\"Gender column with NaN filled:\\n \", df[\"gender\"].value_counts())"
   ]
  },
  {
   "cell_type": "code",
   "execution_count": 73,
   "id": "496c3f60",
   "metadata": {},
   "outputs": [
    {
     "name": "stdout",
     "output_type": "stream",
     "text": [
      "count     2041.000000\n",
      "mean      7794.818377\n",
      "std       6333.045805\n",
      "min       2004.350700\n",
      "25%       3974.138200\n",
      "50%       5727.327100\n",
      "75%       8798.797000\n",
      "max      58166.553500\n",
      "Name: customer_lifetime_value, dtype: float64\n",
      "count     2049.000000\n",
      "mean      7794.818377\n",
      "std       6320.664472\n",
      "min       2004.350700\n",
      "25%       3982.180700\n",
      "50%       5746.148300\n",
      "75%       8783.165400\n",
      "max      58166.553500\n",
      "Name: customer_lifetime_value, dtype: float64\n"
     ]
    }
   ],
   "source": [
    "#Now we fill the customer_lifetime_value with the mean of that column:\n",
    "mean_lifetime_value = df[\"customer_lifetime_value\"].mean()\n",
    "print(df[\"customer_lifetime_value\"].describe())\n",
    "df[\"customer_lifetime_value\"] = df[\"customer_lifetime_value\"].fillna(value=mean_lifetime_value)\n",
    "print(df[\"customer_lifetime_value\"].describe())"
   ]
  },
  {
   "cell_type": "code",
   "execution_count": 75,
   "id": "e1ee3963",
   "metadata": {},
   "outputs": [
    {
     "name": "stdout",
     "output_type": "stream",
     "text": [
      "<class 'pandas.core.frame.DataFrame'>\n",
      "RangeIndex: 2049 entries, 0 to 2048\n",
      "Data columns (total 10 columns):\n",
      " #   Column                     Non-Null Count  Dtype  \n",
      "---  ------                     --------------  -----  \n",
      " 0   region                     2048 non-null   object \n",
      " 1   gender                     2049 non-null   object \n",
      " 2   education                  2048 non-null   object \n",
      " 3   customer_lifetime_value    2049 non-null   float64\n",
      " 4   number_of_open_complaints  2048 non-null   float64\n",
      " 5   policy_type                2048 non-null   object \n",
      " 6   vehicle_class              2048 non-null   object \n",
      " 7   total_claim_amount         2048 non-null   float64\n",
      " 8   income                     2048 non-null   float64\n",
      " 9   monthly_premium_auto       2048 non-null   float64\n",
      "dtypes: float64(5), object(5)\n",
      "memory usage: 160.2+ KB\n"
     ]
    }
   ],
   "source": [
    "df.info()"
   ]
  },
  {
   "cell_type": "markdown",
   "id": "0d947f0a",
   "metadata": {},
   "source": [
    "### Standardizing the data – Use string functions to standardize the text data (lower case)"
   ]
  },
  {
   "cell_type": "code",
   "execution_count": 76,
   "id": "8b12c575",
   "metadata": {},
   "outputs": [
    {
     "name": "stdout",
     "output_type": "stream",
     "text": [
      "<class 'pandas.core.frame.DataFrame'>\n",
      "RangeIndex: 2049 entries, 0 to 2048\n",
      "Data columns (total 3 columns):\n",
      " #   Column         Non-Null Count  Dtype \n",
      "---  ------         --------------  ----- \n",
      " 0   education      2048 non-null   object\n",
      " 1   policy_type    2048 non-null   object\n",
      " 2   vehicle_class  2048 non-null   object\n",
      "dtypes: object(3)\n",
      "memory usage: 48.1+ KB\n",
      "None\n"
     ]
    }
   ],
   "source": [
    "def low(x):\n",
    "    if x!=x:\n",
    "        return x\n",
    "    else:\n",
    "        return str(x).lower()\n",
    "\n",
    "df[\"education\"] = df[\"education\"].apply(low)\n",
    "df[\"policy_type\"] = df[\"policy_type\"].apply(low)\n",
    "df[\"vehicle_class\"] = df[\"vehicle_class\"].apply(low)\n",
    "print(df[[\"education\",\"policy_type\",\"vehicle_class\"]].info())"
   ]
  },
  {
   "cell_type": "markdown",
   "id": "5c97f2c2",
   "metadata": {},
   "source": [
    "### Which columns are numerical? - \n",
    "\n",
    "customer_lifetime_value, number_of_open_complaints, total_claim_amount, income, monthly_premium_auto\n",
    "\n",
    "### Which columns are categorical? - \n",
    "\n",
    "region, gender, education, policy_type, vehicle_class"
   ]
  },
  {
   "cell_type": "code",
   "execution_count": 77,
   "id": "3540b0ca",
   "metadata": {},
   "outputs": [
    {
     "name": "stdout",
     "output_type": "stream",
     "text": [
      "<class 'pandas.core.frame.DataFrame'>\n",
      "RangeIndex: 2049 entries, 0 to 2048\n",
      "Data columns (total 10 columns):\n",
      " #   Column                     Non-Null Count  Dtype  \n",
      "---  ------                     --------------  -----  \n",
      " 0   region                     2048 non-null   object \n",
      " 1   gender                     2049 non-null   object \n",
      " 2   education                  2048 non-null   object \n",
      " 3   customer_lifetime_value    2049 non-null   float64\n",
      " 4   number_of_open_complaints  2048 non-null   float64\n",
      " 5   policy_type                2048 non-null   object \n",
      " 6   vehicle_class              2048 non-null   object \n",
      " 7   total_claim_amount         2048 non-null   float64\n",
      " 8   income                     2048 non-null   float64\n",
      " 9   monthly_premium_auto       2048 non-null   float64\n",
      "dtypes: float64(5), object(5)\n",
      "memory usage: 160.2+ KB\n"
     ]
    }
   ],
   "source": [
    "df.info()"
   ]
  },
  {
   "cell_type": "code",
   "execution_count": 79,
   "id": "46c5bd9b",
   "metadata": {},
   "outputs": [
    {
     "data": {
      "text/html": [
       "<div>\n",
       "<style scoped>\n",
       "    .dataframe tbody tr th:only-of-type {\n",
       "        vertical-align: middle;\n",
       "    }\n",
       "\n",
       "    .dataframe tbody tr th {\n",
       "        vertical-align: top;\n",
       "    }\n",
       "\n",
       "    .dataframe thead th {\n",
       "        text-align: right;\n",
       "    }\n",
       "</style>\n",
       "<table border=\"1\" class=\"dataframe\">\n",
       "  <thead>\n",
       "    <tr style=\"text-align: right;\">\n",
       "      <th></th>\n",
       "      <th>customer_lifetime_value</th>\n",
       "      <th>number_of_open_complaints</th>\n",
       "      <th>total_claim_amount</th>\n",
       "      <th>income</th>\n",
       "      <th>monthly_premium_auto</th>\n",
       "    </tr>\n",
       "  </thead>\n",
       "  <tbody>\n",
       "    <tr>\n",
       "      <th>count</th>\n",
       "      <td>2049.000000</td>\n",
       "      <td>2048.000000</td>\n",
       "      <td>2048.000000</td>\n",
       "      <td>2048.000000</td>\n",
       "      <td>2048.000000</td>\n",
       "    </tr>\n",
       "    <tr>\n",
       "      <th>mean</th>\n",
       "      <td>7794.818377</td>\n",
       "      <td>0.378906</td>\n",
       "      <td>411.182471</td>\n",
       "      <td>39502.444824</td>\n",
       "      <td>166.753906</td>\n",
       "    </tr>\n",
       "    <tr>\n",
       "      <th>std</th>\n",
       "      <td>6320.664472</td>\n",
       "      <td>0.881878</td>\n",
       "      <td>283.202904</td>\n",
       "      <td>30337.183028</td>\n",
       "      <td>1216.775514</td>\n",
       "    </tr>\n",
       "    <tr>\n",
       "      <th>min</th>\n",
       "      <td>2004.350700</td>\n",
       "      <td>0.000000</td>\n",
       "      <td>0.382107</td>\n",
       "      <td>0.000000</td>\n",
       "      <td>61.000000</td>\n",
       "    </tr>\n",
       "    <tr>\n",
       "      <th>25%</th>\n",
       "      <td>3982.180700</td>\n",
       "      <td>0.000000</td>\n",
       "      <td>245.354739</td>\n",
       "      <td>15162.750000</td>\n",
       "      <td>68.000000</td>\n",
       "    </tr>\n",
       "    <tr>\n",
       "      <th>50%</th>\n",
       "      <td>5746.148300</td>\n",
       "      <td>0.000000</td>\n",
       "      <td>350.400000</td>\n",
       "      <td>36526.000000</td>\n",
       "      <td>81.000000</td>\n",
       "    </tr>\n",
       "    <tr>\n",
       "      <th>75%</th>\n",
       "      <td>8783.165400</td>\n",
       "      <td>0.000000</td>\n",
       "      <td>524.125708</td>\n",
       "      <td>64161.250000</td>\n",
       "      <td>108.000000</td>\n",
       "    </tr>\n",
       "    <tr>\n",
       "      <th>max</th>\n",
       "      <td>58166.553500</td>\n",
       "      <td>5.000000</td>\n",
       "      <td>2893.239678</td>\n",
       "      <td>99981.000000</td>\n",
       "      <td>35354.000000</td>\n",
       "    </tr>\n",
       "  </tbody>\n",
       "</table>\n",
       "</div>"
      ],
      "text/plain": [
       "       customer_lifetime_value  number_of_open_complaints  total_claim_amount  \\\n",
       "count              2049.000000                2048.000000         2048.000000   \n",
       "mean               7794.818377                   0.378906          411.182471   \n",
       "std                6320.664472                   0.881878          283.202904   \n",
       "min                2004.350700                   0.000000            0.382107   \n",
       "25%                3982.180700                   0.000000          245.354739   \n",
       "50%                5746.148300                   0.000000          350.400000   \n",
       "75%                8783.165400                   0.000000          524.125708   \n",
       "max               58166.553500                   5.000000         2893.239678   \n",
       "\n",
       "             income  monthly_premium_auto  \n",
       "count   2048.000000           2048.000000  \n",
       "mean   39502.444824            166.753906  \n",
       "std    30337.183028           1216.775514  \n",
       "min        0.000000             61.000000  \n",
       "25%    15162.750000             68.000000  \n",
       "50%    36526.000000             81.000000  \n",
       "75%    64161.250000            108.000000  \n",
       "max    99981.000000          35354.000000  "
      ]
     },
     "execution_count": 79,
     "metadata": {},
     "output_type": "execute_result"
    }
   ],
   "source": [
    "df.describe()"
   ]
  }
 ],
 "metadata": {
  "kernelspec": {
   "display_name": "Python 3 (ipykernel)",
   "language": "python",
   "name": "python3"
  },
  "language_info": {
   "codemirror_mode": {
    "name": "ipython",
    "version": 3
   },
   "file_extension": ".py",
   "mimetype": "text/x-python",
   "name": "python",
   "nbconvert_exporter": "python",
   "pygments_lexer": "ipython3",
   "version": "3.9.6"
  }
 },
 "nbformat": 4,
 "nbformat_minor": 5
}
