{
 "cells": [
  {
   "cell_type": "markdown",
   "id": "b433148b",
   "metadata": {},
   "source": [
    "# My perfect vacation"
   ]
  },
  {
   "cell_type": "markdown",
   "id": "bf035845",
   "metadata": {},
   "source": [
    "The purpose of this notebook is explaining **someone's** perfect holidays!"
   ]
  },
  {
   "cell_type": "code",
   "execution_count": 7,
   "id": "b5642fa4",
   "metadata": {},
   "outputs": [
    {
     "name": "stdout",
     "output_type": "stream",
     "text": [
      "Input the person's name: Carlos\n"
     ]
    },
    {
     "data": {
      "text/plain": [
       "'Carlos'"
      ]
     },
     "execution_count": 7,
     "metadata": {},
     "output_type": "execute_result"
    }
   ],
   "source": [
    "def get_name():\n",
    "\n",
    "    return input(\"Input the person's name: \")\n",
    "\n",
    "get_name()"
   ]
  },
  {
   "cell_type": "markdown",
   "id": "f8d7fc41",
   "metadata": {},
   "source": [
    "![Carlos_working_hard](WIN_20210809_16_41_19_Pro.jpg)\n"
   ]
  },
  {
   "cell_type": "code",
   "execution_count": 4,
   "id": "b6248af4",
   "metadata": {},
   "outputs": [
    {
     "name": "stdout",
     "output_type": "stream",
     "text": [
      "So what is/are your preferred time of year?: winter\n",
      "So what is/are your preferred activities?: skiing\n",
      "So what is/are your preferred company for the trip?: friends\n"
     ]
    },
    {
     "data": {
      "text/plain": [
       "{'time of year': 'winter',\n",
       " 'activities': 'skiing',\n",
       " 'company for the trip': 'friends'}"
      ]
     },
     "execution_count": 4,
     "metadata": {},
     "output_type": "execute_result"
    }
   ],
   "source": [
    "def get_preferences():\n",
    "    preferences = {\"time of year\":\"\", \"activities\":\"\", \"company for the trip\": \"\"}\n",
    "    for item in preferences.keys():\n",
    "        preferences[item] = input(f\"So what is/are your preferred {item}?: \")\n",
    "    \n",
    "    return preferences\n",
    "    \n",
    "get_preferences()"
   ]
  },
  {
   "cell_type": "markdown",
   "id": "2bc90cb1",
   "metadata": {},
   "source": [
    "![maybe_Carlos](skiing.jpg)"
   ]
  },
  {
   "cell_type": "markdown",
   "id": "75cee796",
   "metadata": {},
   "source": [
    "Our person's favorite **activities** during the vacation are mainly the *following*:\n",
    "- Actually skiing\n",
    "- Going out to party\n",
    "- Contemplating the sunset over the mountains\n",
    "\n",
    "### But not only those! He/She has varied interests!"
   ]
  },
  {
   "cell_type": "markdown",
   "id": "93279c05",
   "metadata": {},
   "source": [
    "A good place for skiing is **Sierra Nevada**. It is located in Southern Spain, in a region called Andalucia. Three good things about Sierra Nevada:\n",
    "1. It is very close to Granada and its famous Alhambra!\n",
    "2. It is also very close to Málaga, another great Spanish city. There are great beaches and water sports just an hour away from Sierra Nevada!\n",
    "3. You can see Africa when you are at the top of Sierra Nevada in a clear day! Yo can actually get to see the coast of Morocco and the Atlas mountain range\n"
   ]
  },
  {
   "cell_type": "markdown",
   "id": "5063892a",
   "metadata": {},
   "source": [
    "You can see a video of Sierra Nevada in this link:\n",
    "[Youtube_video](https://www.youtube.com/watch?v=_yOIQCFxPOI)"
   ]
  },
  {
   "cell_type": "markdown",
   "id": "72af4287",
   "metadata": {},
   "source": [
    "## I hope you enjoyed this presentation!"
   ]
  }
 ],
 "metadata": {
  "kernelspec": {
   "display_name": "Python 3 (ipykernel)",
   "language": "python",
   "name": "python3"
  },
  "language_info": {
   "codemirror_mode": {
    "name": "ipython",
    "version": 3
   },
   "file_extension": ".py",
   "mimetype": "text/x-python",
   "name": "python",
   "nbconvert_exporter": "python",
   "pygments_lexer": "ipython3",
   "version": "3.9.6"
  }
 },
 "nbformat": 4,
 "nbformat_minor": 5
}
