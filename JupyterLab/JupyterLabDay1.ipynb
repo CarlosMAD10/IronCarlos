{
 "cells": [
  {
   "cell_type": "markdown",
   "id": "cf3447a5",
   "metadata": {},
   "source": [
    "# My perfect vacation"
   ]
  },
  {
   "cell_type": "markdown",
   "id": "d3d3c15e",
   "metadata": {},
   "source": [
    "The purpose of this notebook is explaining my perfect holidays."
   ]
  },
  {
   "cell_type": "code",
   "execution_count": 1,
   "id": "7c0f6f08",
   "metadata": {},
   "outputs": [
    {
     "name": "stdout",
     "output_type": "stream",
     "text": [
      "Input the person's name: Carlos\n"
     ]
    }
   ],
   "source": [
    "name = input(\"Input the person's name: \")"
   ]
  },
  {
   "cell_type": "markdown",
   "id": "d7e6d855",
   "metadata": {},
   "source": [
    "![alt_text](https://github.com/CarlosMAD10/IronCarlos/blob/master/JupyterLab/WIN_20210809_16_41_19_Pro.jpg)\n"
   ]
  },
  {
   "cell_type": "code",
   "execution_count": 4,
   "id": "28df2a27",
   "metadata": {},
   "outputs": [
    {
     "name": "stdout",
     "output_type": "stream",
     "text": [
      "So what is/are your preferred time of year?: winter\n",
      "So what is/are your preferred activities?: skiing\n",
      "So what is/are your preferred company for the trip?: friends\n"
     ]
    },
    {
     "data": {
      "text/plain": [
       "{'time of year': 'winter',\n",
       " 'activities': 'skiing',\n",
       " 'company for the trip': 'friends'}"
      ]
     },
     "execution_count": 4,
     "metadata": {},
     "output_type": "execute_result"
    }
   ],
   "source": [
    "def get_preferences():\n",
    "    preferences = {\"time of year\":\"\", \"activities\":\"\", \"company for the trip\": \"\"}\n",
    "    for item in preferences.keys():\n",
    "        preferences[item] = input(f\"So what is/are your preferred {item}?: \")\n",
    "    \n",
    "    return preferences\n",
    "    \n",
    "get_preferences()"
   ]
  },
  {
   "cell_type": "code",
   "execution_count": null,
   "id": "93699543",
   "metadata": {},
   "outputs": [],
   "source": []
  }
 ],
 "metadata": {
  "kernelspec": {
   "display_name": "Python 3 (ipykernel)",
   "language": "python",
   "name": "python3"
  },
  "language_info": {
   "codemirror_mode": {
    "name": "ipython",
    "version": 3
   },
   "file_extension": ".py",
   "mimetype": "text/x-python",
   "name": "python",
   "nbconvert_exporter": "python",
   "pygments_lexer": "ipython3",
   "version": "3.9.6"
  }
 },
 "nbformat": 4,
 "nbformat_minor": 5
}
