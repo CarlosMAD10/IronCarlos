{
 "cells": [
  {
   "cell_type": "markdown",
   "id": "94c3e8b2",
   "metadata": {},
   "source": [
    "# My perfect vacation"
   ]
  },
  {
   "cell_type": "markdown",
   "id": "a8af53ee",
   "metadata": {},
   "source": [
    "The purpose of this notebook is explaining my perfect holidays."
   ]
  },
  {
   "cell_type": "code",
   "execution_count": 1,
   "id": "959d78f1",
   "metadata": {},
   "outputs": [
    {
     "name": "stdout",
     "output_type": "stream",
     "text": [
      "Input the person's name: Carlos\n"
     ]
    }
   ],
   "source": [
    "name = input(\"Input the person's name: \")"
   ]
  },
  {
   "cell_type": "markdown",
   "id": "633d0c34",
   "metadata": {},
   "source": [
    "\n"
   ]
  }
 ],
 "metadata": {
  "kernelspec": {
   "display_name": "Python 3 (ipykernel)",
   "language": "python",
   "name": "python3"
  },
  "language_info": {
   "codemirror_mode": {
    "name": "ipython",
    "version": 3
   },
   "file_extension": ".py",
   "mimetype": "text/x-python",
   "name": "python",
   "nbconvert_exporter": "python",
   "pygments_lexer": "ipython3",
   "version": "3.9.6"
  }
 },
 "nbformat": 4,
 "nbformat_minor": 5
}
