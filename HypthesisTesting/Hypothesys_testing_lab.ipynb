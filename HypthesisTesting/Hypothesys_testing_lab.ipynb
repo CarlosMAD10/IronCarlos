{
 "cells": [
  {
   "cell_type": "code",
   "execution_count": 62,
   "id": "45a45e42",
   "metadata": {},
   "outputs": [],
   "source": [
    "import pandas as pd\n",
    "import numpy as np\n",
    "import scipy.stats\n",
    "from math import sqrt"
   ]
  },
  {
   "cell_type": "markdown",
   "id": "48708e5f",
   "metadata": {},
   "source": [
    "# Hypothesis testing lab"
   ]
  },
  {
   "cell_type": "markdown",
   "id": "c96f162b",
   "metadata": {},
   "source": [
    "1. It is assumed that the mean systolic blood pressure is `μ = 120 mm Hg`. In the Honolulu Heart Study, a sample of `n = 100` people had an average systolic blood pressure of 130.1 mm Hg with a standard deviation of 21.21 mm Hg. Is the group significantly different (with respect to systolic blood pressure!) from the regular population?\n",
    "\n",
    "   - Set up the hypothesis test.\n",
    "   - Write down all the steps followed for setting up the test.\n",
    "   - Calculate the test statistic by hand and also code it in Python. It should be 4.76190. What decision can you make based on this calculated value?"
   ]
  },
  {
   "cell_type": "code",
   "execution_count": 56,
   "id": "2cbaa36e",
   "metadata": {},
   "outputs": [
    {
     "name": "stdout",
     "output_type": "stream",
     "text": [
      "The z value is 4.76190, whereas the critical z in a two-tailed test with a confidence interval of 5 % is 1.95996.\n",
      "This means that the null hypthesis is False.\n"
     ]
    }
   ],
   "source": [
    "x = 130.1\n",
    "mu = 120\n",
    "std_value = 21.21\n",
    "N = 100\n",
    "alpha = 0.05\n",
    "z = abs((x - mu) / (std_value/N**0.5))\n",
    "zc = scipy.stats.norm.ppf(1-(alpha/2))\n",
    "print(f\"The z value is {z:.5f}, whereas the critical z in a two-tailed \\\n",
    "test with a confidence interval of {int(alpha*100)} % is {zc:.5f}.\")\n",
    "print(f\"This means that the null hypthesis is {zc > z}.\")"
   ]
  },
  {
   "cell_type": "markdown",
   "id": "3690fdd2",
   "metadata": {},
   "source": [
    "2. We will have another simple example on two sample t test. But this time this is a one sided t-test\n",
    "In a packing plant, a machine packs cartons with jars. It is supposed that a new machine will pack faster on the average than the machine currently used. To test that hypothesis, the times it takes each machine to pack ten cartons are recorded. The results, in seconds, are shown in the tables in the file Data_Machine.txt. Assume that there is sufficient evidence to conduct the t test, does the data provide sufficient evidence to show if one machine is better than the other"
   ]
  },
  {
   "cell_type": "code",
   "execution_count": 57,
   "id": "e7368e7e",
   "metadata": {},
   "outputs": [],
   "source": [
    "df = pd.read_csv(\"Data_Machine.txt\")"
   ]
  },
  {
   "cell_type": "markdown",
   "id": "4c0062e1",
   "metadata": {},
   "source": [
    "We use the appropiate function from the Scipy library."
   ]
  },
  {
   "cell_type": "code",
   "execution_count": 69,
   "id": "e41b900f",
   "metadata": {},
   "outputs": [],
   "source": [
    "alpha = 0.05\n",
    "test, pvalue = scipy.stats.ttest_ind(df[\"Old_Machine\"], df[\"New_Machine\"], alternative=\"two-sided\")"
   ]
  },
  {
   "cell_type": "code",
   "execution_count": 71,
   "id": "2dc0a438",
   "metadata": {},
   "outputs": [
    {
     "name": "stdout",
     "output_type": "stream",
     "text": [
      "3.3972307061176026 0.0032111425007745158\n"
     ]
    }
   ],
   "source": [
    "print(test, pvalue)"
   ]
  },
  {
   "cell_type": "code",
   "execution_count": 76,
   "id": "4969a6d2",
   "metadata": {
    "scrolled": false
   },
   "outputs": [
    {
     "name": "stdout",
     "output_type": "stream",
     "text": [
      "The p-value for the test is 0.321 %. The confidence level is 5 %.\n",
      "That the pvalue is smaller than alpha is then True.\n",
      "This means that the alternative hypothesis, that is, that the machines have different means, is True.\n"
     ]
    }
   ],
   "source": [
    "print(f\"The p-value for the test is {(pvalue*100):.3f} %. The confidence level is {int(alpha*100)} %.\")\n",
    "print(f\"That the pvalue is smaller than alpha is then {pvalue<alpha}.\")\n",
    "print(f\"This means that the alternative hypothesis, that is, that the machines have different means, is {pvalue<alpha}.\")"
   ]
  },
  {
   "cell_type": "markdown",
   "id": "b5a37877",
   "metadata": {},
   "source": [
    "Another way of doing it:"
   ]
  },
  {
   "cell_type": "code",
   "execution_count": 73,
   "id": "83695bc5",
   "metadata": {},
   "outputs": [],
   "source": [
    "mu_old = df[\"Old_Machine\"].mean()\n",
    "mu_new = df[\"New_Machine\"].mean()\n",
    "std_old = np.std(df[\"Old_Machine\"], ddof=1)\n",
    "std_new = np.std(df[\"New_Machine\"], ddof=1)\n",
    "N = len(df)\n",
    "degrees = len(df)*2 - 2"
   ]
  },
  {
   "cell_type": "code",
   "execution_count": 74,
   "id": "43533b2b",
   "metadata": {},
   "outputs": [],
   "source": [
    "tc = scipy.stats.t.ppf(1-(alpha/2), df=degrees)\n",
    "t = abs(mu_old - mu_new)/sqrt((std_old**2 + std_new**2)/10)"
   ]
  },
  {
   "cell_type": "code",
   "execution_count": 75,
   "id": "7fd6e712",
   "metadata": {},
   "outputs": [
    {
     "name": "stdout",
     "output_type": "stream",
     "text": [
      "Since t = 3.3972 is greater than tc = 2.1009, we have to reject the null hypothesis, meaning the machines have different means.\n"
     ]
    }
   ],
   "source": [
    "print(f\"Since t = {t:.4f} is greater than tc = {tc:.4f}, we have to reject the null hypothesis, meaning the machines have different means.\")"
   ]
  }
 ],
 "metadata": {
  "kernelspec": {
   "display_name": "Python 3 (ipykernel)",
   "language": "python",
   "name": "python3"
  },
  "language_info": {
   "codemirror_mode": {
    "name": "ipython",
    "version": 3
   },
   "file_extension": ".py",
   "mimetype": "text/x-python",
   "name": "python",
   "nbconvert_exporter": "python",
   "pygments_lexer": "ipython3",
   "version": "3.9.6"
  }
 },
 "nbformat": 4,
 "nbformat_minor": 5
}
