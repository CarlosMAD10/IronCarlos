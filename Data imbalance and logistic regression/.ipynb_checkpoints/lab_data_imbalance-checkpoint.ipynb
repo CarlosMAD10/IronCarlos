{
 "cells": [
  {
   "cell_type": "markdown",
   "id": "9e467386",
   "metadata": {},
   "source": [
    "# Lab | Logisitc Regression, Handling Imbalanced Data\n",
    "\n",
    "For this lab we will build a model on customer churn binary classification problem. We will be using the `DATA_Customer-Churn.csv` file.\n",
    "\n",
    "## Scenario\n",
    "\n",
    "You are working as an analyst with this internet service provider. You are provided with this historical data about your company's customers and their churn trends. Your task is to build a machine learning model that will help the company identify customers that are more likely to default/churn and thus prevent losses from such customers.\n",
    "\n"
   ]
  },
  {
   "cell_type": "markdown",
   "id": "028a16a0",
   "metadata": {},
   "source": [
    "# 1. Import modules and data"
   ]
  },
  {
   "cell_type": "code",
   "execution_count": 34,
   "id": "fbdc4c77",
   "metadata": {},
   "outputs": [],
   "source": [
    "import pandas as pd\n",
    "import numpy as np\n",
    "pd.set_option('display.max_columns', None)\n",
    "import warnings\n",
    "warnings.filterwarnings('ignore')\n",
    "from imblearn.over_sampling import SMOTE\n",
    "from imblearn.under_sampling import TomekLinks\n",
    "from sklearn.tree import DecisionTreeRegressor\n",
    "from sklearn.tree import DecisionTreeClassifier\n",
    "from sklearn.model_selection import train_test_split\n",
    "from sklearn.tree import plot_tree\n",
    "from sklearn.metrics import mean_absolute_error, mean_squared_error, r2_score\n",
    "from sklearn.metrics import accuracy_score, precision_score, recall_score, confusion_matrix\n",
    "from sklearn.metrics import plot_confusion_matrix\n",
    "from sklearn.linear_model import LogisticRegression\n",
    "from sklearn.preprocessing import PowerTransformer\n",
    "import matplotlib.pyplot as plt\n",
    "from sklearn.pipeline import make_pipeline\n",
    "from sklearn.model_selection import cross_val_score"
   ]
  },
  {
   "cell_type": "markdown",
   "id": "a19f8ea6",
   "metadata": {},
   "source": [
    "Importing the dataframe"
   ]
  },
  {
   "cell_type": "code",
   "execution_count": 2,
   "id": "83289612",
   "metadata": {},
   "outputs": [],
   "source": [
    "def import_dataset():\n",
    "    return pd.read_csv(\"DATA_Customer-Churn.txt\")"
   ]
  },
  {
   "cell_type": "markdown",
   "id": "1c7bc98a",
   "metadata": {},
   "source": [
    "Cleaning function for the dataset. It will do several things:\n",
    "- column `TotalCharges` is object type. Convert this column into numeric type. 11 of the values are an empty space, we will replace with the monthly charges value.\n",
    "- Check for null values in the dataframe. Replace the null values. There are no NaN or None values."
   ]
  },
  {
   "cell_type": "code",
   "execution_count": 3,
   "id": "ba80c0a9",
   "metadata": {},
   "outputs": [],
   "source": [
    "def cleaning_df(df):\n",
    "    mask = df[\"TotalCharges\"] == \" \" \n",
    "    df.loc[mask, \"TotalCharges\"] = df.loc[mask, \"MonthlyCharges\"]\n",
    "    df[\"TotalCharges\"] = df[\"TotalCharges\"].astype(np.float64)\n",
    "    return df\n",
    "    "
   ]
  },
  {
   "cell_type": "code",
   "execution_count": 4,
   "id": "ef8668a1",
   "metadata": {},
   "outputs": [],
   "source": [
    "df = import_dataset()\n",
    "ChurnData = cleaning_df(df)"
   ]
  },
  {
   "cell_type": "code",
   "execution_count": 5,
   "id": "b9154959",
   "metadata": {},
   "outputs": [
    {
     "data": {
      "text/plain": [
       "Index(['gender', 'SeniorCitizen', 'Partner', 'Dependents', 'tenure',\n",
       "       'PhoneService', 'OnlineSecurity', 'OnlineBackup', 'DeviceProtection',\n",
       "       'TechSupport', 'StreamingTV', 'StreamingMovies', 'Contract',\n",
       "       'MonthlyCharges', 'TotalCharges', 'Churn'],\n",
       "      dtype='object')"
      ]
     },
     "execution_count": 5,
     "metadata": {},
     "output_type": "execute_result"
    }
   ],
   "source": [
    "ChurnData.columns"
   ]
  },
  {
   "cell_type": "markdown",
   "id": "352a5145",
   "metadata": {},
   "source": [
    "# 2. Logistic regression model\n",
    "\n",
    "Use the following features: `tenure`, `SeniorCitizen`, `MonthlyCharges` and `TotalCharges`:\n",
    "  - Scale the features either by using normalizer or a standard scaler.\n",
    "  - Split the data into a training set and a test set.\n",
    "  - Fit a logistic regression model on the training data.\n",
    "  - Check the accuracy on the test data."
   ]
  },
  {
   "cell_type": "code",
   "execution_count": 6,
   "id": "a2464d7c",
   "metadata": {},
   "outputs": [],
   "source": [
    "data = ChurnData[[\"tenure\", \"SeniorCitizen\", \"MonthlyCharges\", \"TotalCharges\"]]\n",
    "target = ChurnData[\"Churn\"]\n",
    "data_cols = data.columns"
   ]
  },
  {
   "cell_type": "code",
   "execution_count": 7,
   "id": "6ee50e4f",
   "metadata": {},
   "outputs": [],
   "source": [
    "X_train, X_test, y_train, y_test = train_test_split(data, target)"
   ]
  },
  {
   "cell_type": "code",
   "execution_count": 8,
   "id": "efb1dc36",
   "metadata": {},
   "outputs": [],
   "source": [
    "scaler = PowerTransformer()\n",
    "scaler.fit(X_train)\n",
    "X_train_scaled = scaler.transform(X_train)\n",
    "X_test_scaled = scaler.transform(X_test)"
   ]
  },
  {
   "cell_type": "code",
   "execution_count": 9,
   "id": "5960b838",
   "metadata": {},
   "outputs": [],
   "source": [
    "logreg = LogisticRegression()\n",
    "logreg.fit(X_train_scaled, y_train)\n",
    "y_pred_train = logreg.predict(X_train_scaled)\n",
    "y_pred_test = logreg.predict(X_test_scaled)"
   ]
  },
  {
   "cell_type": "code",
   "execution_count": 10,
   "id": "126a2d0b",
   "metadata": {},
   "outputs": [
    {
     "name": "stdout",
     "output_type": "stream",
     "text": [
      "The accuracy on the test data is 0.7898921067575241\n"
     ]
    }
   ],
   "source": [
    "score = accuracy_score(y_test, y_pred_test)\n",
    "print(f\"The accuracy on the test data is {score}\")"
   ]
  },
  {
   "cell_type": "code",
   "execution_count": 11,
   "id": "cc5911fb",
   "metadata": {
    "scrolled": false
   },
   "outputs": [
    {
     "name": "stdout",
     "output_type": "stream",
     "text": [
      "Confusion matrix for the test set\n",
      "[[1195  282]\n",
      " [  88  196]]\n"
     ]
    },
    {
     "data": {
      "image/png": "[encoded data removed]",
      "text/plain": [
       "<Figure size 432x288 with 2 Axes>"
      ]
     },
     "metadata": {
      "needs_background": "light"
     },
     "output_type": "display_data"
    }
   ],
   "source": [
    "print(\"Confusion matrix for the test set\")\n",
    "print(confusion_matrix(y_test,y_pred_test).T)\n",
    "plot_confusion_matrix(logreg,X_test,y_test, values_format = 'd')\n",
    "plt.show()"
   ]
  },
  {
   "cell_type": "markdown",
   "id": "d304fd0b",
   "metadata": {},
   "source": [
    "# 3. Managing imbalance in the dataset\n",
    "\n",
    "- Check for the imbalance.\n",
    "- Use the resampling strategies used in class for upsampling and downsampling to create a balance between the two classes.\n",
    "- Each time fit the model and see how the accuracy of the model is."
   ]
  },
  {
   "cell_type": "code",
   "execution_count": 12,
   "id": "3a0ec650",
   "metadata": {},
   "outputs": [],
   "source": [
    "#We will use this function to run the models.\n",
    "def run_eval_model(X,y):\n",
    "    \"\"\"Returns accuracy scaler, logistic regressor, y_pred and y_test\"\"\"\n",
    "    \n",
    "    X_train, X_test, y_train, y_test = train_test_split(X, y)\n",
    "    \n",
    "    #Scaling the feature matrix\n",
    "    transformer = PowerTransformer()\n",
    "    transformer.fit(X_train)\n",
    "    X_train = transformer.transform(X_train)\n",
    "    X_test = transformer.transform(X_test)\n",
    "    \n",
    "    #Creating and running the model\n",
    "    logreg = LogisticRegression()\n",
    "    logreg.fit(X_train, y_train)\n",
    "    y_pred_test = logreg.predict(X_test)\n",
    "    score = accuracy_score(y_test, y_pred_test)\n",
    "    print(f\"The accuracy on the test data is {score}\")\n",
    "    print(\"Confusion matrix for the test set\")\n",
    "    print(confusion_matrix(y_test,y_pred_test).T)\n",
    "    plot_confusion_matrix(logreg, X_test, y_test, values_format = 'd')\n",
    "    plt.show()\n",
    "    return score"
   ]
  },
  {
   "cell_type": "code",
   "execution_count": 13,
   "id": "2172e8a4",
   "metadata": {
    "scrolled": false
   },
   "outputs": [
    {
     "data": {
      "text/plain": [
       "No     5174\n",
       "Yes    1869\n",
       "Name: Churn, dtype: int64"
      ]
     },
     "execution_count": 13,
     "metadata": {},
     "output_type": "execute_result"
    }
   ],
   "source": [
    "target.value_counts()"
   ]
  },
  {
   "cell_type": "markdown",
   "id": "7d85f208",
   "metadata": {},
   "source": [
    "There are 1869 positive answers for 5174 negative ones (36%). "
   ]
  },
  {
   "cell_type": "code",
   "execution_count": 14,
   "id": "03e31386",
   "metadata": {},
   "outputs": [],
   "source": [
    "#We will store the scores of each model in a dictionary\n",
    "scores = {}"
   ]
  },
  {
   "cell_type": "markdown",
   "id": "e2c8aeb1",
   "metadata": {},
   "source": [
    "### Downsampling: sampling 1869 out of the no churn:"
   ]
  },
  {
   "cell_type": "code",
   "execution_count": 15,
   "id": "8fb69450",
   "metadata": {},
   "outputs": [],
   "source": [
    "full_data = pd.concat([data, target], axis=1)"
   ]
  },
  {
   "cell_type": "code",
   "execution_count": 16,
   "id": "6fd22b39",
   "metadata": {},
   "outputs": [],
   "source": [
    "category_no = full_data[full_data['Churn'] == \"No\"]\n",
    "category_yes = full_data[full_data['Churn'] == \"Yes\"]"
   ]
  },
  {
   "cell_type": "code",
   "execution_count": 17,
   "id": "d9c62e60",
   "metadata": {
    "scrolled": true
   },
   "outputs": [
    {
     "name": "stdout",
     "output_type": "stream",
     "text": [
      "No churn -  5174\n",
      "Yes churn -  1869\n"
     ]
    }
   ],
   "source": [
    "print(\"No churn - \", category_no.shape[0])\n",
    "print(\"Yes churn - \", category_yes.shape[0])"
   ]
  },
  {
   "cell_type": "code",
   "execution_count": 18,
   "id": "a242904f",
   "metadata": {},
   "outputs": [
    {
     "data": {
      "text/plain": [
       "(1869, 5)"
      ]
     },
     "execution_count": 18,
     "metadata": {},
     "output_type": "execute_result"
    }
   ],
   "source": [
    "category_no_ds = category_no.sample(len(category_yes))\n",
    "category_no_ds.shape"
   ]
  },
  {
   "cell_type": "code",
   "execution_count": 19,
   "id": "536adcab",
   "metadata": {},
   "outputs": [
    {
     "data": {
      "text/plain": [
       "(3738, 4)"
      ]
     },
     "execution_count": 19,
     "metadata": {},
     "output_type": "execute_result"
    }
   ],
   "source": [
    "#We create the new dataset\n",
    "data_ds = pd.concat([category_no_ds, category_yes], axis=0)\n",
    "#We shuffle it\n",
    "data_ds = data_ds.sample(frac=1)\n",
    "\n",
    "#Separate features and target from the process:\n",
    "target_ds = data_ds[\"Churn\"]\n",
    "data_ds = data_ds.drop(columns=\"Churn\")\n",
    "data_ds.shape\n"
   ]
  },
  {
   "cell_type": "markdown",
   "id": "6802395c",
   "metadata": {},
   "source": [
    "Our new dataset has 3738 rows. We run a model with this data and see the results:"
   ]
  },
  {
   "cell_type": "code",
   "execution_count": 20,
   "id": "6b515282",
   "metadata": {
    "scrolled": false
   },
   "outputs": [
    {
     "name": "stdout",
     "output_type": "stream",
     "text": [
      "The accuracy on the test data is 0.7411764705882353\n",
      "Confusion matrix for the test set\n",
      "[[332 116]\n",
      " [126 361]]\n"
     ]
    },
    {
     "data": {
      "image/png": "[encoded data removed]",
      "text/plain": [
       "<Figure size 432x288 with 2 Axes>"
      ]
     },
     "metadata": {
      "needs_background": "light"
     },
     "output_type": "display_data"
    }
   ],
   "source": [
    "scores[\"Downsampling\"]  = run_eval_model(data_ds, target_ds)"
   ]
  },
  {
   "cell_type": "markdown",
   "id": "0eac539c",
   "metadata": {},
   "source": [
    "### Upsampling: sampling 5174 times the 1869 positive churns."
   ]
  },
  {
   "cell_type": "code",
   "execution_count": 21,
   "id": "8b4adc60",
   "metadata": {},
   "outputs": [
    {
     "data": {
      "text/plain": [
       "(10348, 4)"
      ]
     },
     "execution_count": 21,
     "metadata": {},
     "output_type": "execute_result"
    }
   ],
   "source": [
    "category_no = full_data[full_data['Churn'] == \"No\"]\n",
    "category_yes = full_data[full_data['Churn'] == \"Yes\"]\n",
    "\n",
    "#Sampling\n",
    "category_yes_us = category_yes.sample(len(category_no), replace=True)\n",
    "\n",
    "#We create the new dataset\n",
    "data_us = pd.concat([category_no, category_yes_us], axis=0)\n",
    "#We shuffle it\n",
    "data_us = data_us.sample(frac=1)\n",
    "\n",
    "#Separate features and target from the process:\n",
    "target_us = data_us[\"Churn\"]\n",
    "data_us = data_us.drop(columns=\"Churn\")\n",
    "data_us.shape"
   ]
  },
  {
   "cell_type": "markdown",
   "id": "cbb08de6",
   "metadata": {},
   "source": [
    "Our dataset with upsampling has 10348 rows. We run the model and check the results:"
   ]
  },
  {
   "cell_type": "code",
   "execution_count": 22,
   "id": "c6754ff9",
   "metadata": {
    "scrolled": true
   },
   "outputs": [
    {
     "name": "stdout",
     "output_type": "stream",
     "text": [
      "The accuracy on the test data is 0.7313490529570932\n",
      "Confusion matrix for the test set\n",
      "[[927 343]\n",
      " [352 965]]\n"
     ]
    },
    {
     "data": {
      "image/png": "[encoded data removed]",
      "text/plain": [
       "<Figure size 432x288 with 2 Axes>"
      ]
     },
     "metadata": {
      "needs_background": "light"
     },
     "output_type": "display_data"
    }
   ],
   "source": [
    "scores[\"Upsampling\"] = run_eval_model(data_us, target_us)"
   ]
  },
  {
   "cell_type": "markdown",
   "id": "8d7ffaaa",
   "metadata": {},
   "source": [
    "### Other models: SMOTE and TomekLinks"
   ]
  },
  {
   "cell_type": "code",
   "execution_count": 23,
   "id": "2cfd1e71",
   "metadata": {},
   "outputs": [
    {
     "data": {
      "text/plain": [
       "No     5174\n",
       "Yes    5174\n",
       "Name: Churn, dtype: int64"
      ]
     },
     "execution_count": 23,
     "metadata": {},
     "output_type": "execute_result"
    }
   ],
   "source": [
    "smote = SMOTE()\n",
    "y = full_data['Churn']\n",
    "X = full_data.drop(['Churn'], axis=1)\n",
    "X_smote, y_smote = smote.fit_resample(X, y)\n",
    "y_smote.value_counts()"
   ]
  },
  {
   "cell_type": "code",
   "execution_count": 24,
   "id": "bd78aa0d",
   "metadata": {
    "scrolled": true
   },
   "outputs": [
    {
     "name": "stdout",
     "output_type": "stream",
     "text": [
      "The accuracy on the test data is 0.7259373792037108\n",
      "Confusion matrix for the test set\n",
      "[[953 317]\n",
      " [392 925]]\n"
     ]
    },
    {
     "data": {
      "image/png": "[encoded data removed]",
      "text/plain": [
       "<Figure size 432x288 with 2 Axes>"
      ]
     },
     "metadata": {
      "needs_background": "light"
     },
     "output_type": "display_data"
    }
   ],
   "source": [
    " scores[\"Smote\"] = run_eval_model(X_smote, y_smote)"
   ]
  },
  {
   "cell_type": "code",
   "execution_count": 25,
   "id": "ef486efa",
   "metadata": {},
   "outputs": [
    {
     "data": {
      "text/plain": [
       "No     4621\n",
       "Yes    1869\n",
       "Name: Churn, dtype: int64"
      ]
     },
     "execution_count": 25,
     "metadata": {},
     "output_type": "execute_result"
    }
   ],
   "source": [
    "tomek = TomekLinks('majority')\n",
    "X_tomek, y_tomek = tomek.fit_resample(X, y)\n",
    "y_tomek.value_counts()"
   ]
  },
  {
   "cell_type": "code",
   "execution_count": 26,
   "id": "6850bfab",
   "metadata": {
    "scrolled": false
   },
   "outputs": [
    {
     "name": "stdout",
     "output_type": "stream",
     "text": [
      "The accuracy on the test data is 0.7954405422057917\n",
      "Confusion matrix for the test set\n",
      "[[1033  233]\n",
      " [  99  258]]\n"
     ]
    },
    {
     "data": {
      "image/png": "[encoded data removed]",
      "text/plain": [
       "<Figure size 432x288 with 2 Axes>"
      ]
     },
     "metadata": {
      "needs_background": "light"
     },
     "output_type": "display_data"
    }
   ],
   "source": [
    "scores[\"TomekLinks\"] = run_eval_model(X_tomek, y_tomek)"
   ]
  },
  {
   "cell_type": "markdown",
   "id": "ffd02679",
   "metadata": {},
   "source": [
    "### We check the results:"
   ]
  },
  {
   "cell_type": "code",
   "execution_count": 27,
   "id": "6ec01f1d",
   "metadata": {
    "scrolled": true
   },
   "outputs": [
    {
     "name": "stdout",
     "output_type": "stream",
     "text": [
      "The score of the Downsampling method is 0.741.\n",
      "The score of the Upsampling method is 0.731.\n",
      "The score of the Smote method is 0.726.\n",
      "The score of the TomekLinks method is 0.795.\n"
     ]
    }
   ],
   "source": [
    "for key, item in scores.items():\n",
    "    print(f\"The score of the {key} method is {item:.3f}.\")"
   ]
  },
  {
   "cell_type": "markdown",
   "id": "480e0845",
   "metadata": {},
   "source": [
    "### The TomekLinks system seems to be the best one, followed by the original one, without undersmapling or oversampling."
   ]
  },
  {
   "cell_type": "markdown",
   "id": "4b1ca8bd",
   "metadata": {},
   "source": [
    "# 4. Decision Tree exercise"
   ]
  },
  {
   "cell_type": "code",
   "execution_count": 30,
   "id": "efa33c23",
   "metadata": {},
   "outputs": [],
   "source": [
    "X_train, X_test, y_train, y_test = train_test_split(data, target)"
   ]
  },
  {
   "cell_type": "code",
   "execution_count": 31,
   "id": "9931a3b6",
   "metadata": {},
   "outputs": [],
   "source": [
    "scaler = PowerTransformer()\n",
    "scaler.fit(X_train)\n",
    "X_train_scaled = scaler.transform(X_train)\n",
    "X_test_scaled = scaler.transform(X_test)"
   ]
  },
  {
   "cell_type": "code",
   "execution_count": 32,
   "id": "7d1806df",
   "metadata": {},
   "outputs": [],
   "source": [
    "tree = DecisionTreeClassifier()\n",
    "tree.fit(X_train_scaled, y_train)\n",
    "y_pred_train = tree.predict(X_train_scaled)\n",
    "y_pred_test = tree.predict(X_test_scaled)"
   ]
  },
  {
   "cell_type": "code",
   "execution_count": 42,
   "id": "bba42d9f",
   "metadata": {},
   "outputs": [
    {
     "name": "stdout",
     "output_type": "stream",
     "text": [
      "The accuracy on the test data is 0.7314\n"
     ]
    }
   ],
   "source": [
    "score = accuracy_score(y_test, y_pred_test)\n",
    "print(f\"The accuracy on the test data is {score:.4f}\")"
   ]
  },
  {
   "cell_type": "code",
   "execution_count": 37,
   "id": "32501f24",
   "metadata": {},
   "outputs": [],
   "source": [
    "cross_validation_score = cross_val_score(DecisionTreeClassifier(), X_train_scaled, y_train)"
   ]
  },
  {
   "cell_type": "code",
   "execution_count": 41,
   "id": "f000a224",
   "metadata": {},
   "outputs": [
    {
     "name": "stdout",
     "output_type": "stream",
     "text": [
      "The score with a 5-fold cross validation is 0.7145\n"
     ]
    }
   ],
   "source": [
    "print(f\"The score with a 5-fold cross validation is {cross_validation_score.mean():.4f}\")"
   ]
  }
 ],
 "metadata": {
  "kernelspec": {
   "display_name": "Python 3 (ipykernel)",
   "language": "python",
   "name": "python3"
  },
  "language_info": {
   "codemirror_mode": {
    "name": "ipython",
    "version": 3
   },
   "file_extension": ".py",
   "mimetype": "text/x-python",
   "name": "python",
   "nbconvert_exporter": "python",
   "pygments_lexer": "ipython3",
   "version": "3.9.6"
  }
 },
 "nbformat": 4,
 "nbformat_minor": 5
}
